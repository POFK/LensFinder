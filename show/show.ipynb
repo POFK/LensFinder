{
 "cells": [
  {
   "cell_type": "code",
   "execution_count": 1,
   "metadata": {
    "ExecuteTime": {
     "end_time": "2019-07-19T05:31:12.097457Z",
     "start_time": "2019-07-19T05:31:10.978446Z"
    }
   },
   "outputs": [],
   "source": [
    "import numpy as np\n",
    "import matplotlib.pyplot as plt\n",
    "from torchvision import utils\n",
    "import h5py\n",
    "import glob\n",
    "import os"
   ]
  },
  {
   "cell_type": "code",
   "execution_count": 15,
   "metadata": {
    "ExecuteTime": {
     "end_time": "2019-07-19T05:31:40.318820Z",
     "start_time": "2019-07-19T05:31:40.314291Z"
    }
   },
   "outputs": [],
   "source": [
    "plt.style.use('dark_background')"
   ]
  },
  {
   "cell_type": "code",
   "execution_count": 22,
   "metadata": {
    "ExecuteTime": {
     "end_time": "2019-07-19T05:35:07.210765Z",
     "start_time": "2019-07-19T05:35:07.201221Z"
    },
    "scrolled": true
   },
   "outputs": [],
   "source": [
    "params = {\n",
    "    'axes.labelsize': 10,\n",
    "    'legend.fontsize': 10,\n",
    "    'xtick.labelsize': 9,\n",
    "    'ytick.labelsize': 9,\n",
    "    'text.usetex': False,\n",
    "    'figure.figsize': [4.5, 4.5],\n",
    "    #----------\n",
    "    'xtick.direction': 'in',\n",
    "    'ytick.direction': 'in',\n",
    "    'image.cmap': 'jet',\n",
    "    'legend.frameon':  False,\n",
    "    'xtick.top': False,\n",
    "    'ytick.right': False,\n",
    "    #----------\n",
    "    'lines.linewidth': 2.0,\n",
    "#    'axes.labelsize': 12,\n",
    "    'xtick.minor.visible': False,\n",
    "    'ytick.minor.visible': False,\n",
    "    'xtick.major.top': False, \n",
    "    'xtick.major.bottom': False, \n",
    "    'ytick.major.left': False, \n",
    "    'ytick.major.right': False,\n",
    "   }\n",
    "plt.rcParams.update(params)"
   ]
  },
  {
   "cell_type": "code",
   "execution_count": 4,
   "metadata": {
    "ExecuteTime": {
     "end_time": "2019-07-19T05:31:12.119065Z",
     "start_time": "2019-07-19T05:31:12.114976Z"
    }
   },
   "outputs": [],
   "source": [
    "#DirBase = \"/data/inspur_disk03/userdir/wangcx/BASS_stack/area2/strong_w3\"\n",
    "DirBase =\"/data/inspur_disk03/userdir/wangcx/BASS_stack/area2/DEV_COMP_hdf5\"\n",
    "OutBase = \"\"\n",
    "data_shape = [101,101,3]"
   ]
  },
  {
   "cell_type": "markdown",
   "metadata": {},
   "source": [
    "### load data"
   ]
  },
  {
   "cell_type": "code",
   "execution_count": 5,
   "metadata": {
    "ExecuteTime": {
     "end_time": "2019-07-19T05:31:12.128160Z",
     "start_time": "2019-07-19T05:31:12.121266Z"
    }
   },
   "outputs": [],
   "source": [
    "fps = glob.glob(os.path.join(DirBase,'*.hdf5'))"
   ]
  },
  {
   "cell_type": "code",
   "execution_count": 6,
   "metadata": {
    "ExecuteTime": {
     "end_time": "2019-07-19T05:31:12.133989Z",
     "start_time": "2019-07-19T05:31:12.130213Z"
    }
   },
   "outputs": [],
   "source": [
    "def preprocess(x, sigma=100):\n",
    "    x -= x.min()\n",
    "    x /= x.max()\n",
    "    return x"
   ]
  },
  {
   "cell_type": "code",
   "execution_count": 7,
   "metadata": {
    "ExecuteTime": {
     "end_time": "2019-07-19T05:31:12.144143Z",
     "start_time": "2019-07-19T05:31:12.135933Z"
    }
   },
   "outputs": [],
   "source": [
    "def readdata(file, key):\n",
    "    with h5py.File(file, 'r') as fp:\n",
    "        image = fp[key]\n",
    "        datar = image['r'][...]\n",
    "        datag = image['g'][...]\n",
    "        dataz = image['z'][...]\n",
    "    datar = preprocess(datar)\n",
    "    datag = preprocess(datag)\n",
    "    dataz = preprocess(dataz)\n",
    "    data = np.stack([datar, datag, dataz])\n",
    "    return data"
   ]
  },
  {
   "cell_type": "markdown",
   "metadata": {},
   "source": [
    "### data clean and visualization"
   ]
  },
  {
   "cell_type": "raw",
   "metadata": {
    "ExecuteTime": {
     "end_time": "2019-07-18T15:35:43.219857Z",
     "start_time": "2019-07-18T15:35:43.213352Z"
    }
   },
   "source": [
    "def preprocess2(x, sigma=100):\n",
    "    mean = x.mean()\n",
    "    std = x.std()\n",
    "    x = np.clip(x, mean-std*sigma, mean+std*sigma)\n",
    "    x -= x.min()\n",
    "    x /= x.max()\n",
    "    return x"
   ]
  },
  {
   "cell_type": "raw",
   "metadata": {
    "ExecuteTime": {
     "end_time": "2019-07-18T15:45:27.247471Z",
     "start_time": "2019-07-18T15:45:27.229828Z"
    }
   },
   "source": [
    "def readdata(fp):\n",
    "    with fits.open(fps[0]+'_r.fits') as hdu:\n",
    "        datar = hdu[0].data\n",
    "        datar = preprocess(datar)\n",
    "    with fits.open(fps[0]+'_g.fits') as hdu:\n",
    "        datag = hdu[0].data\n",
    "        datag = preprocess(datag)\n",
    "    with fits.open(fps[0]+'_z.fits') as hdu:\n",
    "        dataz = hdu[0].data\n",
    "        dataz = preprocess(dataz)\n",
    "\n",
    "    data = np.stack([datar, datag, dataz])\n",
    "    return data"
   ]
  },
  {
   "cell_type": "code",
   "execution_count": 8,
   "metadata": {
    "ExecuteTime": {
     "end_time": "2019-07-19T05:31:12.151642Z",
     "start_time": "2019-07-19T05:31:12.147445Z"
    }
   },
   "outputs": [],
   "source": [
    "def color_F(x, beta=1.):\n",
    "    return np.arcsinh(x/beta)"
   ]
  },
  {
   "cell_type": "code",
   "execution_count": 9,
   "metadata": {
    "ExecuteTime": {
     "end_time": "2019-07-19T05:31:12.158885Z",
     "start_time": "2019-07-19T05:31:12.154076Z"
    }
   },
   "outputs": [],
   "source": [
    "def color_f(x, m, M, beta):\n",
    "    bool_min = x < m\n",
    "    bool_max = x > M\n",
    "    fx = color_F(x-m, beta)/color_F(M-m, beta)\n",
    "    fx[bool_min] = 0.\n",
    "    fx[bool_max] = 1.\n",
    "    return fx"
   ]
  },
  {
   "cell_type": "code",
   "execution_count": 10,
   "metadata": {
    "ExecuteTime": {
     "end_time": "2019-07-19T05:31:12.170481Z",
     "start_time": "2019-07-19T05:31:12.160741Z"
    }
   },
   "outputs": [],
   "source": [
    "def show_color(r, g, z, m, M, beta):\n",
    "    I = (r+g+z)/3.\n",
    "    bool_I = I == 0\n",
    "    I[bool_I] = 1\n",
    "    RGB = [c*color_f(I, m, M, beta)/I for c in [r, g, z]]\n",
    "    RGB[0][bool_I] = 0.\n",
    "    RGB[1][bool_I] = 0.\n",
    "    RGB[2][bool_I] = 0.\n",
    "    RGB = np.stack(RGB)\n",
    "    RGB_max = np.max(RGB, axis=0)\n",
    "    RGB_max[RGB_max < 1] = 1.\n",
    "    RGB /= RGB_max[None,:]*np.ones(RGB.shape)\n",
    "    return RGB"
   ]
  },
  {
   "cell_type": "markdown",
   "metadata": {},
   "source": [
    "### show"
   ]
  },
  {
   "cell_type": "code",
   "execution_count": 11,
   "metadata": {
    "ExecuteTime": {
     "end_time": "2019-07-19T05:31:12.180858Z",
     "start_time": "2019-07-19T05:31:12.172582Z"
    },
    "scrolled": true
   },
   "outputs": [],
   "source": [
    "data = readdata(fps[0],'87599020487')"
   ]
  },
  {
   "cell_type": "code",
   "execution_count": 49,
   "metadata": {
    "ExecuteTime": {
     "end_time": "2019-07-19T05:47:06.019900Z",
     "start_time": "2019-07-19T05:47:04.872128Z"
    },
    "scrolled": false
   },
   "outputs": [
    {
     "data": {
      "image/png": "[encoded data removed]",
      "text/plain": [
       "<Figure size 1440x360 with 4 Axes>"
      ]
     },
     "metadata": {},
     "output_type": "display_data"
    }
   ],
   "source": [
    "cmap = 'gray'\n",
    "fig, axes = plt.subplots(1,4,figsize=(20,5))\n",
    "im = show_color(data[0], data[1], data[2], m=0.15, M=1., beta=0.3)\n",
    "axes[0].imshow(im[0],cmap=cmap)\n",
    "axes[1].imshow(im[1],cmap=cmap)\n",
    "axes[2].imshow(im[2],cmap=cmap)\n",
    "axes[3].imshow(im.transpose(1,2,0))\n",
    "fig.show()"
   ]
  },
  {
   "cell_type": "code",
   "execution_count": null,
   "metadata": {},
   "outputs": [],
   "source": []
  }
 ],
 "metadata": {
  "hide_input": false,
  "kernelspec": {
   "display_name": "Nova",
   "language": "python",
   "name": "rik_ssh_maotx_nova_nova_32"
  },
  "language_info": {
   "codemirror_mode": {
    "name": "ipython",
    "version": 3
   },
   "file_extension": ".py",
   "mimetype": "text/x-python",
   "name": "python",
   "nbconvert_exporter": "python",
   "pygments_lexer": "ipython3",
   "version": "3.7.3"
  },
  "latex_envs": {
   "LaTeX_envs_menu_present": true,
   "autoclose": false,
   "autocomplete": true,
   "bibliofile": "biblio.bib",
   "cite_by": "apalike",
   "current_citInitial": 1,
   "eqLabelWithNumbers": true,
   "eqNumInitial": 1,
   "hotkeys": {
    "equation": "Ctrl-E",
    "itemize": "Ctrl-I"
   },
   "labels_anchors": false,
   "latex_user_defs": false,
   "report_style_numbering": false,
   "user_envs_cfg": false
  },
  "toc": {
   "base_numbering": 1,
   "nav_menu": {},
   "number_sections": true,
   "sideBar": true,
   "skip_h1_title": false,
   "title_cell": "Table of Contents",
   "title_sidebar": "Contents",
   "toc_cell": false,
   "toc_position": {},
   "toc_section_display": true,
   "toc_window_display": false
  },
  "varInspector": {
   "cols": {
    "lenName": 16,
    "lenType": 16,
    "lenVar": 40
   },
   "kernels_config": {
    "python": {
     "delete_cmd_postfix": "",
     "delete_cmd_prefix": "del ",
     "library": "var_list.py",
     "varRefreshCmd": "print(var_dic_list())"
    },
    "r": {
     "delete_cmd_postfix": ") ",
     "delete_cmd_prefix": "rm(",
     "library": "var_list.r",
     "varRefreshCmd": "cat(var_dic_list()) "
    }
   },
   "types_to_exclude": [
    "module",
    "function",
    "builtin_function_or_method",
    "instance",
    "_Feature"
   ],
   "window_display": false
  }
 },
 "nbformat": 4,
 "nbformat_minor": 2
}
