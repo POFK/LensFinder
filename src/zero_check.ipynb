{
 "cells": [
  {
   "cell_type": "markdown",
   "metadata": {},
   "source": [
    "### dataset:\n",
    "\n",
    "**Lens**\n",
    "```\n",
    "/data/inspur_disk03/userdir/wangcx/decals_lens/BASS_resolution/grade-A/101t101\n",
    "/data/inspur_disk03/userdir/wangcx/decals_lens/BASS_resolution/grade-B/101t101\n",
    "/data/inspur_disk03/userdir/wangcx/decals_lens/BASS_resolution/grade-C/101t101\n",
    "/data/inspur_disk03/userdir/wangcx/Other_lens_in_decals_BASS_resolution/101t101\n",
    "```\n",
    "**non-lens**\n",
    "```\n",
    "/data/inspur_disk03/userdir/wangcx/decals_non_lens_BASS_resulation/PSF\n",
    "/data/inspur_disk03/userdir/wangcx/decals_non_lens_BASS_resulation/COMP \n",
    "/data/inspur_disk03/userdir/wangcx/decals_non_lens_BASS_resulation/DEV\n",
    "/data/inspur_disk03/userdir/wangcx/decals_non_lens_BASS_resulation/REX\n",
    "```"
   ]
  },
  {
   "cell_type": "code",
   "execution_count": 1,
   "metadata": {},
   "outputs": [],
   "source": [
    "import astropy.io.fits as fits\n",
    "import numpy as np\n",
    "import os\n",
    "import glob\n",
    "import matplotlib.pylab as plt"
   ]
  },
  {
   "cell_type": "code",
   "execution_count": 2,
   "metadata": {},
   "outputs": [],
   "source": [
    "DirBase = \"/data/inspur_disk03/userdir/wangcx\""
   ]
  },
  {
   "cell_type": "code",
   "execution_count": 3,
   "metadata": {},
   "outputs": [],
   "source": [
    "def show(data):\n",
    "    fig, axes = plt.subplots(1,4,figsize=(4.5*4,4.5))\n",
    "    ax = axes[0]\n",
    "    ax.imshow(data[0])\n",
    "    ax.invert_yaxis()\n",
    "    ax = axes[1]\n",
    "    ax.imshow(data[1])\n",
    "    ax.invert_yaxis()\n",
    "    ax = axes[2]\n",
    "    ax.imshow(data[2])\n",
    "    ax.invert_yaxis()\n",
    "    ax = axes[3]\n",
    "    ax.imshow(data.transpose(1,2,0))\n",
    "    ax.invert_yaxis()"
   ]
  },
  {
   "cell_type": "code",
   "execution_count": 4,
   "metadata": {},
   "outputs": [],
   "source": [
    "def preprocess(func):\n",
    "    def wrapper(*args, **kwargs):\n",
    "        fp = args[0]\n",
    "        data = func(fp).astype(np.float32)\n",
    "        cut = 100\n",
    "        #---------------------------\n",
    "        m = data.mean(axis=(1,2))[:,None,None]\n",
    "        s = data.std(axis=(1,2))[:,None,None]\n",
    "        data -= m\n",
    "        data /= s\n",
    "        data = data.transpose(1,2,0)\n",
    "        #data = np.clip(data,-cut,cut)\n",
    "        #---------------------------\n",
    "        return data\n",
    "    return wrapper"
   ]
  },
  {
   "cell_type": "code",
   "execution_count": 5,
   "metadata": {},
   "outputs": [],
   "source": [
    "@preprocess\n",
    "def readdata(fp):\n",
    "    with fits.open(fp) as hdu:\n",
    "        data = hdu[0].data\n",
    "    return data"
   ]
  },
  {
   "cell_type": "code",
   "execution_count": 6,
   "metadata": {},
   "outputs": [],
   "source": [
    "def readdata2(fp):\n",
    "    with fits.open(fp) as hdu:\n",
    "        data = hdu[0].data\n",
    "    return data"
   ]
  },
  {
   "cell_type": "markdown",
   "metadata": {},
   "source": [
    "### check old"
   ]
  },
  {
   "cell_type": "code",
   "execution_count": 97,
   "metadata": {},
   "outputs": [],
   "source": [
    "fp_lensA = glob.glob(os.path.join(DirBase,'decals_lens/BASS_resolution/grade-A/101t101/*.fits'))\n",
    "fp_lensB = glob.glob(os.path.join(DirBase,'decals_lens/BASS_resolution/grade-B/101t101/*.fits'))\n",
    "fp_lensC = glob.glob(os.path.join(DirBase,'decals_lens/BASS_resolution/grade-C/101t101/*.fits'))\n",
    "fp_nlens = glob.glob(os.path.join(DirBase,'decals_non_lens_BASS_resulation/*/cutout*.fits'))"
   ]
  },
  {
   "cell_type": "code",
   "execution_count": 98,
   "metadata": {},
   "outputs": [],
   "source": [
    "fp_lensA=[i.replace(DirBase+'/','') for i in fp_lensA]\n",
    "fp_lensB=[i.replace(DirBase+'/','') for i in fp_lensB]\n",
    "fp_lensC=[i.replace(DirBase+'/','') for i in fp_lensC]\n",
    "fp_nlens=[i.replace(DirBase+'/','') for i in fp_nlens]"
   ]
  },
  {
   "cell_type": "code",
   "execution_count": 99,
   "metadata": {},
   "outputs": [
    {
     "ename": "KeyboardInterrupt",
     "evalue": "",
     "output_type": "error",
     "traceback": [
      "\u001b[0;31m\u001b[0m",
      "\u001b[0;31mKeyboardInterrupt\u001b[0mTraceback (most recent call last)",
      "\u001b[0;32m<ipython-input-99-990defa4bb5c>\u001b[0m in \u001b[0;36m<module>\u001b[0;34m()\u001b[0m\n\u001b[1;32m      3\u001b[0m \u001b[0;32mfor\u001b[0m \u001b[0mfp\u001b[0m \u001b[0;32min\u001b[0m \u001b[0mfps\u001b[0m\u001b[0;34m:\u001b[0m\u001b[0;34m\u001b[0m\u001b[0m\n\u001b[1;32m      4\u001b[0m     \u001b[0mpath\u001b[0m \u001b[0;34m=\u001b[0m \u001b[0mos\u001b[0m\u001b[0;34m.\u001b[0m\u001b[0mpath\u001b[0m\u001b[0;34m.\u001b[0m\u001b[0mjoin\u001b[0m\u001b[0;34m(\u001b[0m\u001b[0mDirBase\u001b[0m\u001b[0;34m,\u001b[0m\u001b[0mfp\u001b[0m\u001b[0;34m)\u001b[0m\u001b[0;34m\u001b[0m\u001b[0m\n\u001b[0;32m----> 5\u001b[0;31m     \u001b[0mdata\u001b[0m \u001b[0;34m=\u001b[0m \u001b[0mreaddata2\u001b[0m\u001b[0;34m(\u001b[0m\u001b[0mpath\u001b[0m\u001b[0;34m)\u001b[0m\u001b[0;34m\u001b[0m\u001b[0m\n\u001b[0m\u001b[1;32m      6\u001b[0m     \u001b[0mbool0\u001b[0m \u001b[0;34m=\u001b[0m \u001b[0mdata\u001b[0m\u001b[0;34m==\u001b[0m\u001b[0;36m0.\u001b[0m\u001b[0;34m\u001b[0m\u001b[0m\n\u001b[1;32m      7\u001b[0m     \u001b[0;32mif\u001b[0m \u001b[0mnp\u001b[0m\u001b[0;34m.\u001b[0m\u001b[0mall\u001b[0m\u001b[0;34m(\u001b[0m\u001b[0mbool0\u001b[0m\u001b[0;34m,\u001b[0m\u001b[0maxis\u001b[0m\u001b[0;34m=\u001b[0m\u001b[0;34m(\u001b[0m\u001b[0;36m1\u001b[0m\u001b[0;34m,\u001b[0m\u001b[0;36m2\u001b[0m\u001b[0;34m)\u001b[0m\u001b[0;34m)\u001b[0m\u001b[0;34m.\u001b[0m\u001b[0many\u001b[0m\u001b[0;34m(\u001b[0m\u001b[0;34m)\u001b[0m\u001b[0;34m:\u001b[0m\u001b[0;34m\u001b[0m\u001b[0m\n",
      "\u001b[0;32m<ipython-input-96-ceb43db4ba91>\u001b[0m in \u001b[0;36mreaddata2\u001b[0;34m(fp)\u001b[0m\n\u001b[1;32m      1\u001b[0m \u001b[0;32mdef\u001b[0m \u001b[0mreaddata2\u001b[0m\u001b[0;34m(\u001b[0m\u001b[0mfp\u001b[0m\u001b[0;34m)\u001b[0m\u001b[0;34m:\u001b[0m\u001b[0;34m\u001b[0m\u001b[0m\n\u001b[0;32m----> 2\u001b[0;31m     \u001b[0;32mwith\u001b[0m \u001b[0mfits\u001b[0m\u001b[0;34m.\u001b[0m\u001b[0mopen\u001b[0m\u001b[0;34m(\u001b[0m\u001b[0mfp\u001b[0m\u001b[0;34m)\u001b[0m \u001b[0;32mas\u001b[0m \u001b[0mhdu\u001b[0m\u001b[0;34m:\u001b[0m\u001b[0;34m\u001b[0m\u001b[0m\n\u001b[0m\u001b[1;32m      3\u001b[0m         \u001b[0mdata\u001b[0m \u001b[0;34m=\u001b[0m \u001b[0mhdu\u001b[0m\u001b[0;34m[\u001b[0m\u001b[0;36m0\u001b[0m\u001b[0;34m]\u001b[0m\u001b[0;34m.\u001b[0m\u001b[0mdata\u001b[0m\u001b[0;34m\u001b[0m\u001b[0m\n\u001b[1;32m      4\u001b[0m     \u001b[0;32mreturn\u001b[0m \u001b[0mdata\u001b[0m\u001b[0;34m\u001b[0m\u001b[0m\n",
      "\u001b[0;32m/home/maotx/local/miniconda2/envs/work/lib/python2.7/site-packages/astropy/io/fits/hdu/hdulist.pyc\u001b[0m in \u001b[0;36mfitsopen\u001b[0;34m(name, mode, memmap, save_backup, cache, lazy_load_hdus, **kwargs)\u001b[0m\n\u001b[1;32m    146\u001b[0m \u001b[0;34m\u001b[0m\u001b[0m\n\u001b[1;32m    147\u001b[0m     return HDUList.fromfile(name, mode, memmap, save_backup, cache,\n\u001b[0;32m--> 148\u001b[0;31m                             lazy_load_hdus, **kwargs)\n\u001b[0m\u001b[1;32m    149\u001b[0m \u001b[0;34m\u001b[0m\u001b[0m\n\u001b[1;32m    150\u001b[0m \u001b[0;34m\u001b[0m\u001b[0m\n",
      "\u001b[0;32m/home/maotx/local/miniconda2/envs/work/lib/python2.7/site-packages/astropy/io/fits/hdu/hdulist.pyc\u001b[0m in \u001b[0;36mfromfile\u001b[0;34m(cls, fileobj, mode, memmap, save_backup, cache, lazy_load_hdus, **kwargs)\u001b[0m\n\u001b[1;32m    400\u001b[0m         return cls._readfrom(fileobj=fileobj, mode=mode, memmap=memmap,\n\u001b[1;32m    401\u001b[0m                              \u001b[0msave_backup\u001b[0m\u001b[0;34m=\u001b[0m\u001b[0msave_backup\u001b[0m\u001b[0;34m,\u001b[0m \u001b[0mcache\u001b[0m\u001b[0;34m=\u001b[0m\u001b[0mcache\u001b[0m\u001b[0;34m,\u001b[0m\u001b[0;34m\u001b[0m\u001b[0m\n\u001b[0;32m--> 402\u001b[0;31m                              lazy_load_hdus=lazy_load_hdus, **kwargs)\n\u001b[0m\u001b[1;32m    403\u001b[0m \u001b[0;34m\u001b[0m\u001b[0m\n\u001b[1;32m    404\u001b[0m     \u001b[0;34m@\u001b[0m\u001b[0mclassmethod\u001b[0m\u001b[0;34m\u001b[0m\u001b[0m\n",
      "\u001b[0;32m/home/maotx/local/miniconda2/envs/work/lib/python2.7/site-packages/astropy/io/fits/hdu/hdulist.pyc\u001b[0m in \u001b[0;36m_readfrom\u001b[0;34m(cls, fileobj, data, mode, memmap, save_backup, cache, lazy_load_hdus, **kwargs)\u001b[0m\n\u001b[1;32m   1029\u001b[0m \u001b[0;34m\u001b[0m\u001b[0m\n\u001b[1;32m   1030\u001b[0m         \u001b[0;31m# Make sure at least the PRIMARY HDU can be read\u001b[0m\u001b[0;34m\u001b[0m\u001b[0;34m\u001b[0m\u001b[0m\n\u001b[0;32m-> 1031\u001b[0;31m         \u001b[0mread_one\u001b[0m \u001b[0;34m=\u001b[0m \u001b[0mhdulist\u001b[0m\u001b[0;34m.\u001b[0m\u001b[0m_read_next_hdu\u001b[0m\u001b[0;34m(\u001b[0m\u001b[0;34m)\u001b[0m\u001b[0;34m\u001b[0m\u001b[0m\n\u001b[0m\u001b[1;32m   1032\u001b[0m \u001b[0;34m\u001b[0m\u001b[0m\n\u001b[1;32m   1033\u001b[0m         \u001b[0;31m# If we're trying to read only and no header units were found,\u001b[0m\u001b[0;34m\u001b[0m\u001b[0;34m\u001b[0m\u001b[0m\n",
      "\u001b[0;32m/home/maotx/local/miniconda2/envs/work/lib/python2.7/site-packages/astropy/io/fits/hdu/hdulist.pyc\u001b[0m in \u001b[0;36m_read_next_hdu\u001b[0;34m(self)\u001b[0m\n\u001b[1;32m   1104\u001b[0m                                 \u001b[0mfileobj\u001b[0m\u001b[0;34m.\u001b[0m\u001b[0mseek\u001b[0m\u001b[0;34m(\u001b[0m\u001b[0moffset\u001b[0m\u001b[0;34m,\u001b[0m \u001b[0mos\u001b[0m\u001b[0;34m.\u001b[0m\u001b[0mSEEK_SET\u001b[0m\u001b[0;34m)\u001b[0m\u001b[0;34m\u001b[0m\u001b[0m\n\u001b[1;32m   1105\u001b[0m \u001b[0;34m\u001b[0m\u001b[0m\n\u001b[0;32m-> 1106\u001b[0;31m                         \u001b[0mhdu\u001b[0m \u001b[0;34m=\u001b[0m \u001b[0m_BaseHDU\u001b[0m\u001b[0;34m.\u001b[0m\u001b[0mreadfrom\u001b[0m\u001b[0;34m(\u001b[0m\u001b[0mfileobj\u001b[0m\u001b[0;34m,\u001b[0m \u001b[0;34m**\u001b[0m\u001b[0mkwargs\u001b[0m\u001b[0;34m)\u001b[0m\u001b[0;34m\u001b[0m\u001b[0m\n\u001b[0m\u001b[1;32m   1107\u001b[0m                     \u001b[0;32mexcept\u001b[0m \u001b[0mEOFError\u001b[0m\u001b[0;34m:\u001b[0m\u001b[0;34m\u001b[0m\u001b[0m\n\u001b[1;32m   1108\u001b[0m                         \u001b[0mself\u001b[0m\u001b[0;34m.\u001b[0m\u001b[0m_read_all\u001b[0m \u001b[0;34m=\u001b[0m \u001b[0mTrue\u001b[0m\u001b[0;34m\u001b[0m\u001b[0m\n",
      "\u001b[0;32m/home/maotx/local/miniconda2/envs/work/lib/python2.7/site-packages/astropy/io/fits/hdu/base.pyc\u001b[0m in \u001b[0;36mreadfrom\u001b[0;34m(cls, fileobj, checksum, ignore_missing_end, **kwargs)\u001b[0m\n\u001b[1;32m    330\u001b[0m         hdu = cls._readfrom_internal(fileobj, checksum=checksum,\n\u001b[1;32m    331\u001b[0m                                      \u001b[0mignore_missing_end\u001b[0m\u001b[0;34m=\u001b[0m\u001b[0mignore_missing_end\u001b[0m\u001b[0;34m,\u001b[0m\u001b[0;34m\u001b[0m\u001b[0m\n\u001b[0;32m--> 332\u001b[0;31m                                      **kwargs)\n\u001b[0m\u001b[1;32m    333\u001b[0m \u001b[0;34m\u001b[0m\u001b[0m\n\u001b[1;32m    334\u001b[0m         \u001b[0;31m# If the checksum had to be checked the data may have already been read\u001b[0m\u001b[0;34m\u001b[0m\u001b[0;34m\u001b[0m\u001b[0m\n",
      "\u001b[0;32m/home/maotx/local/miniconda2/envs/work/lib/python2.7/site-packages/astropy/io/fits/hdu/base.pyc\u001b[0m in \u001b[0;36m_readfrom_internal\u001b[0;34m(cls, data, header, checksum, ignore_missing_end, **kwargs)\u001b[0m\n\u001b[1;32m    395\u001b[0m             \u001b[0;32mif\u001b[0m \u001b[0mheader\u001b[0m \u001b[0;32mis\u001b[0m \u001b[0mNone\u001b[0m\u001b[0;34m:\u001b[0m\u001b[0;34m\u001b[0m\u001b[0m\n\u001b[1;32m    396\u001b[0m                 \u001b[0mheader_offset\u001b[0m \u001b[0;34m=\u001b[0m \u001b[0mdata\u001b[0m\u001b[0;34m.\u001b[0m\u001b[0mtell\u001b[0m\u001b[0;34m(\u001b[0m\u001b[0;34m)\u001b[0m\u001b[0;34m\u001b[0m\u001b[0m\n\u001b[0;32m--> 397\u001b[0;31m                 \u001b[0mheader\u001b[0m \u001b[0;34m=\u001b[0m \u001b[0mHeader\u001b[0m\u001b[0;34m.\u001b[0m\u001b[0mfromfile\u001b[0m\u001b[0;34m(\u001b[0m\u001b[0mdata\u001b[0m\u001b[0;34m,\u001b[0m \u001b[0mendcard\u001b[0m\u001b[0;34m=\u001b[0m\u001b[0;32mnot\u001b[0m \u001b[0mignore_missing_end\u001b[0m\u001b[0;34m)\u001b[0m\u001b[0;34m\u001b[0m\u001b[0m\n\u001b[0m\u001b[1;32m    398\u001b[0m             \u001b[0mhdu_fileobj\u001b[0m \u001b[0;34m=\u001b[0m \u001b[0mdata\u001b[0m\u001b[0;34m\u001b[0m\u001b[0m\n\u001b[1;32m    399\u001b[0m             \u001b[0mdata_offset\u001b[0m \u001b[0;34m=\u001b[0m \u001b[0mdata\u001b[0m\u001b[0;34m.\u001b[0m\u001b[0mtell\u001b[0m\u001b[0;34m(\u001b[0m\u001b[0;34m)\u001b[0m  \u001b[0;31m# *after* reading the header\u001b[0m\u001b[0;34m\u001b[0m\u001b[0m\n",
      "\u001b[0;32m/home/maotx/local/miniconda2/envs/work/lib/python2.7/site-packages/astropy/io/fits/header.pyc\u001b[0m in \u001b[0;36mfromfile\u001b[0;34m(cls, fileobj, sep, endcard, padding)\u001b[0m\n\u001b[1;32m    447\u001b[0m \u001b[0;34m\u001b[0m\u001b[0m\n\u001b[1;32m    448\u001b[0m             return cls._from_blocks(block_iter, is_binary, sep, endcard,\n\u001b[0;32m--> 449\u001b[0;31m                                     padding)[1]\n\u001b[0m\u001b[1;32m    450\u001b[0m         \u001b[0;32mfinally\u001b[0m\u001b[0;34m:\u001b[0m\u001b[0;34m\u001b[0m\u001b[0m\n\u001b[1;32m    451\u001b[0m             \u001b[0;32mif\u001b[0m \u001b[0mclose_file\u001b[0m\u001b[0;34m:\u001b[0m\u001b[0;34m\u001b[0m\u001b[0m\n",
      "\u001b[0;32m/home/maotx/local/miniconda2/envs/work/lib/python2.7/site-packages/astropy/io/fits/header.pyc\u001b[0m in \u001b[0;36m_from_blocks\u001b[0;34m(cls, block_iter, is_binary, sep, endcard, padding)\u001b[0m\n\u001b[1;32m    548\u001b[0m                                                                  actual_len))\n\u001b[1;32m    549\u001b[0m \u001b[0;34m\u001b[0m\u001b[0m\n\u001b[0;32m--> 550\u001b[0;31m         \u001b[0;32mreturn\u001b[0m \u001b[0mheader_str\u001b[0m\u001b[0;34m,\u001b[0m \u001b[0mcls\u001b[0m\u001b[0;34m.\u001b[0m\u001b[0mfromstring\u001b[0m\u001b[0;34m(\u001b[0m\u001b[0mheader_str\u001b[0m\u001b[0;34m,\u001b[0m \u001b[0msep\u001b[0m\u001b[0;34m=\u001b[0m\u001b[0msep\u001b[0m\u001b[0;34m)\u001b[0m\u001b[0;34m\u001b[0m\u001b[0m\n\u001b[0m\u001b[1;32m    551\u001b[0m \u001b[0;34m\u001b[0m\u001b[0m\n\u001b[1;32m    552\u001b[0m     \u001b[0;34m@\u001b[0m\u001b[0mclassmethod\u001b[0m\u001b[0;34m\u001b[0m\u001b[0m\n",
      "\u001b[0;32m/home/maotx/local/miniconda2/envs/work/lib/python2.7/site-packages/astropy/io/fits/header.pyc\u001b[0m in \u001b[0;36mfromstring\u001b[0;34m(cls, data, sep)\u001b[0m\n\u001b[1;32m    390\u001b[0m             \u001b[0mcards\u001b[0m\u001b[0;34m.\u001b[0m\u001b[0mappend\u001b[0m\u001b[0;34m(\u001b[0m\u001b[0mCard\u001b[0m\u001b[0;34m.\u001b[0m\u001b[0mfromstring\u001b[0m\u001b[0;34m(\u001b[0m\u001b[0;34m''\u001b[0m\u001b[0;34m.\u001b[0m\u001b[0mjoin\u001b[0m\u001b[0;34m(\u001b[0m\u001b[0mimage\u001b[0m\u001b[0;34m)\u001b[0m\u001b[0;34m)\u001b[0m\u001b[0;34m)\u001b[0m\u001b[0;34m\u001b[0m\u001b[0m\n\u001b[1;32m    391\u001b[0m \u001b[0;34m\u001b[0m\u001b[0m\n\u001b[0;32m--> 392\u001b[0;31m         \u001b[0;32mreturn\u001b[0m \u001b[0mcls\u001b[0m\u001b[0;34m(\u001b[0m\u001b[0mcards\u001b[0m\u001b[0;34m)\u001b[0m\u001b[0;34m\u001b[0m\u001b[0m\n\u001b[0m\u001b[1;32m    393\u001b[0m \u001b[0;34m\u001b[0m\u001b[0m\n\u001b[1;32m    394\u001b[0m     \u001b[0;34m@\u001b[0m\u001b[0mclassmethod\u001b[0m\u001b[0;34m\u001b[0m\u001b[0m\n",
      "\u001b[0;32m/home/maotx/local/miniconda2/envs/work/lib/python2.7/site-packages/astropy/io/fits/header.pyc\u001b[0m in \u001b[0;36m__init__\u001b[0;34m(self, cards, copy)\u001b[0m\n\u001b[1;32m    109\u001b[0m \u001b[0;34m\u001b[0m\u001b[0m\n\u001b[1;32m    110\u001b[0m         \u001b[0;32mfor\u001b[0m \u001b[0mcard\u001b[0m \u001b[0;32min\u001b[0m \u001b[0mcards\u001b[0m\u001b[0;34m:\u001b[0m\u001b[0;34m\u001b[0m\u001b[0m\n\u001b[0;32m--> 111\u001b[0;31m             \u001b[0mself\u001b[0m\u001b[0;34m.\u001b[0m\u001b[0mappend\u001b[0m\u001b[0;34m(\u001b[0m\u001b[0mcard\u001b[0m\u001b[0;34m,\u001b[0m \u001b[0mend\u001b[0m\u001b[0;34m=\u001b[0m\u001b[0mTrue\u001b[0m\u001b[0;34m)\u001b[0m\u001b[0;34m\u001b[0m\u001b[0m\n\u001b[0m\u001b[1;32m    112\u001b[0m \u001b[0;34m\u001b[0m\u001b[0m\n\u001b[1;32m    113\u001b[0m         \u001b[0mself\u001b[0m\u001b[0;34m.\u001b[0m\u001b[0m_modified\u001b[0m \u001b[0;34m=\u001b[0m \u001b[0mFalse\u001b[0m\u001b[0;34m\u001b[0m\u001b[0m\n",
      "\u001b[0;32m/home/maotx/local/miniconda2/envs/work/lib/python2.7/site-packages/astropy/io/fits/header.pyc\u001b[0m in \u001b[0;36mappend\u001b[0;34m(self, card, useblanks, bottom, end)\u001b[0m\n\u001b[1;32m   1191\u001b[0m             \u001b[0mself\u001b[0m\u001b[0;34m.\u001b[0m\u001b[0m_updateindices\u001b[0m\u001b[0;34m(\u001b[0m\u001b[0midx\u001b[0m\u001b[0;34m)\u001b[0m\u001b[0;34m\u001b[0m\u001b[0m\n\u001b[1;32m   1192\u001b[0m \u001b[0;34m\u001b[0m\u001b[0m\n\u001b[0;32m-> 1193\u001b[0;31m         \u001b[0mkeyword\u001b[0m \u001b[0;34m=\u001b[0m \u001b[0mCard\u001b[0m\u001b[0;34m.\u001b[0m\u001b[0mnormalize_keyword\u001b[0m\u001b[0;34m(\u001b[0m\u001b[0mcard\u001b[0m\u001b[0;34m.\u001b[0m\u001b[0mkeyword\u001b[0m\u001b[0;34m)\u001b[0m\u001b[0;34m\u001b[0m\u001b[0m\n\u001b[0m\u001b[1;32m   1194\u001b[0m         \u001b[0mself\u001b[0m\u001b[0;34m.\u001b[0m\u001b[0m_keyword_indices\u001b[0m\u001b[0;34m[\u001b[0m\u001b[0mkeyword\u001b[0m\u001b[0;34m]\u001b[0m\u001b[0;34m.\u001b[0m\u001b[0mappend\u001b[0m\u001b[0;34m(\u001b[0m\u001b[0midx\u001b[0m\u001b[0;34m)\u001b[0m\u001b[0;34m\u001b[0m\u001b[0m\n\u001b[1;32m   1195\u001b[0m         \u001b[0;32mif\u001b[0m \u001b[0mcard\u001b[0m\u001b[0;34m.\u001b[0m\u001b[0mfield_specifier\u001b[0m \u001b[0;32mis\u001b[0m \u001b[0;32mnot\u001b[0m \u001b[0mNone\u001b[0m\u001b[0;34m:\u001b[0m\u001b[0;34m\u001b[0m\u001b[0m\n",
      "\u001b[0;32m/home/maotx/local/miniconda2/envs/work/lib/python2.7/site-packages/astropy/io/fits/card.pyc\u001b[0m in \u001b[0;36mkeyword\u001b[0;34m(self)\u001b[0m\n\u001b[1;32m    217\u001b[0m             \u001b[0;32mreturn\u001b[0m \u001b[0mself\u001b[0m\u001b[0;34m.\u001b[0m\u001b[0m_keyword\u001b[0m\u001b[0;34m\u001b[0m\u001b[0m\n\u001b[1;32m    218\u001b[0m         \u001b[0;32melif\u001b[0m \u001b[0mself\u001b[0m\u001b[0;34m.\u001b[0m\u001b[0m_image\u001b[0m\u001b[0;34m:\u001b[0m\u001b[0;34m\u001b[0m\u001b[0m\n\u001b[0;32m--> 219\u001b[0;31m             \u001b[0mself\u001b[0m\u001b[0;34m.\u001b[0m\u001b[0m_keyword\u001b[0m \u001b[0;34m=\u001b[0m \u001b[0mself\u001b[0m\u001b[0;34m.\u001b[0m\u001b[0m_parse_keyword\u001b[0m\u001b[0;34m(\u001b[0m\u001b[0;34m)\u001b[0m\u001b[0;34m\u001b[0m\u001b[0m\n\u001b[0m\u001b[1;32m    220\u001b[0m             \u001b[0;32mreturn\u001b[0m \u001b[0mself\u001b[0m\u001b[0;34m.\u001b[0m\u001b[0m_keyword\u001b[0m\u001b[0;34m\u001b[0m\u001b[0m\n\u001b[1;32m    221\u001b[0m         \u001b[0;32melse\u001b[0m\u001b[0;34m:\u001b[0m\u001b[0;34m\u001b[0m\u001b[0m\n",
      "\u001b[0;32m/home/maotx/local/miniconda2/envs/work/lib/python2.7/site-packages/astropy/io/fits/card.pyc\u001b[0m in \u001b[0;36m_parse_keyword\u001b[0;34m(self)\u001b[0m\n\u001b[1;32m    692\u001b[0m                 \u001b[0;31m# the value represents a RVKC; if so then we pass things off to\u001b[0m\u001b[0;34m\u001b[0m\u001b[0;34m\u001b[0m\u001b[0m\n\u001b[1;32m    693\u001b[0m                 \u001b[0;31m# the RVKC parser\u001b[0m\u001b[0;34m\u001b[0m\u001b[0;34m\u001b[0m\u001b[0m\n\u001b[0;32m--> 694\u001b[0;31m                 \u001b[0;32mif\u001b[0m \u001b[0mself\u001b[0m\u001b[0;34m.\u001b[0m\u001b[0m_check_if_rvkc_image\u001b[0m\u001b[0;34m(\u001b[0m\u001b[0mkeyword\u001b[0m\u001b[0;34m,\u001b[0m \u001b[0mrest\u001b[0m\u001b[0;34m)\u001b[0m\u001b[0;34m:\u001b[0m\u001b[0;34m\u001b[0m\u001b[0m\n\u001b[0m\u001b[1;32m    695\u001b[0m                     \u001b[0;32mreturn\u001b[0m \u001b[0mself\u001b[0m\u001b[0;34m.\u001b[0m\u001b[0m_keyword\u001b[0m\u001b[0;34m\u001b[0m\u001b[0m\n\u001b[1;32m    696\u001b[0m \u001b[0;34m\u001b[0m\u001b[0m\n",
      "\u001b[0;32m/home/maotx/local/miniconda2/envs/work/lib/python2.7/site-packages/astropy/io/fits/card.pyc\u001b[0m in \u001b[0;36m_check_if_rvkc_image\u001b[0;34m(self, *args)\u001b[0m\n\u001b[1;32m    652\u001b[0m         \u001b[0;31m# do not contain RVKC field-specifiers; it's very much a\u001b[0m\u001b[0;34m\u001b[0m\u001b[0;34m\u001b[0m\u001b[0m\n\u001b[1;32m    653\u001b[0m         \u001b[0;31m# micro-optimization but it does make a measurable difference\u001b[0m\u001b[0;34m\u001b[0m\u001b[0;34m\u001b[0m\u001b[0m\n\u001b[0;32m--> 654\u001b[0;31m         \u001b[0;32mif\u001b[0m \u001b[0;32mnot\u001b[0m \u001b[0mrest\u001b[0m \u001b[0;32mor\u001b[0m \u001b[0mrest\u001b[0m\u001b[0;34m[\u001b[0m\u001b[0;36m0\u001b[0m\u001b[0;34m]\u001b[0m \u001b[0;34m!=\u001b[0m \u001b[0;34m\"'\"\u001b[0m \u001b[0;32mor\u001b[0m \u001b[0mrest\u001b[0m\u001b[0;34m.\u001b[0m\u001b[0mfind\u001b[0m\u001b[0;34m(\u001b[0m\u001b[0;34m': '\u001b[0m\u001b[0;34m)\u001b[0m \u001b[0;34m<\u001b[0m \u001b[0;36m2\u001b[0m\u001b[0;34m:\u001b[0m\u001b[0;34m\u001b[0m\u001b[0m\n\u001b[0m\u001b[1;32m    655\u001b[0m             \u001b[0;32mreturn\u001b[0m \u001b[0mFalse\u001b[0m\u001b[0;34m\u001b[0m\u001b[0m\n\u001b[1;32m    656\u001b[0m \u001b[0;34m\u001b[0m\u001b[0m\n",
      "\u001b[0;31mKeyboardInterrupt\u001b[0m: "
     ]
    }
   ],
   "source": [
    "fps = fp_lensA + fp_lensB + fp_lensC + fp_nlens\n",
    "PATH = []\n",
    "for fp in fps:\n",
    "    path = os.path.join(DirBase,fp)\n",
    "    data = readdata2(path)\n",
    "    bool0 = data==0.\n",
    "    if np.all(bool0,axis=(1,2)).any():\n",
    "        PATH.append(path)"
   ]
  },
  {
   "cell_type": "code",
   "execution_count": null,
   "metadata": {},
   "outputs": [],
   "source": [
    "PATH"
   ]
  },
  {
   "cell_type": "markdown",
   "metadata": {},
   "source": [
    "### check 101*101"
   ]
  },
  {
   "cell_type": "code",
   "execution_count": null,
   "metadata": {},
   "outputs": [],
   "source": [
    "fp_lensA = glob.glob(os.path.join(DirBase,'decals_lens/BASS_resolution/grade-A/101t101/cutout*.fits'))\n",
    "fp_lensB = glob.glob(os.path.join(DirBase,'decals_lens/BASS_resolution/grade-B/101t101/cutout*.fits'))\n",
    "fp_lensC = glob.glob(os.path.join(DirBase,'decals_lens/BASS_resolution/grade-C/101t101/cutout*.fits'))\n",
    "fp_nlens = glob.glob(os.path.join(DirBase,'decals_non_lens_BASS_resulation/*/101t101/cutout*.fits'))"
   ]
  },
  {
   "cell_type": "code",
   "execution_count": null,
   "metadata": {},
   "outputs": [],
   "source": [
    "fp_lensA=[i.replace(DirBase+'/','') for i in fp_lensA]\n",
    "fp_lensB=[i.replace(DirBase+'/','') for i in fp_lensB]\n",
    "fp_lensC=[i.replace(DirBase+'/','') for i in fp_lensC]\n",
    "fp_nlens=[i.replace(DirBase+'/','') for i in fp_nlens]"
   ]
  },
  {
   "cell_type": "code",
   "execution_count": null,
   "metadata": {},
   "outputs": [],
   "source": [
    "fps = fp_lensA + fp_lensB + fp_lensC + fp_nlens\n",
    "PATH = []\n",
    "for fp in fps:\n",
    "    path = os.path.join(DirBase,fp)\n",
    "    data = readdata2(path)\n",
    "    bool0 = data==0.\n",
    "    if np.all(bool0,axis=(1,2)).any():\n",
    "        PATH.append(path)"
   ]
  },
  {
   "cell_type": "code",
   "execution_count": null,
   "metadata": {},
   "outputs": [],
   "source": [
    "PATH"
   ]
  },
  {
   "cell_type": "code",
   "execution_count": null,
   "metadata": {},
   "outputs": [],
   "source": [
    "a = readdata2(PATH[0])"
   ]
  },
  {
   "cell_type": "code",
   "execution_count": null,
   "metadata": {},
   "outputs": [],
   "source": [
    "show(a)"
   ]
  },
  {
   "cell_type": "code",
   "execution_count": null,
   "metadata": {},
   "outputs": [],
   "source": [
    "oa = readdata2('/data/inspur_disk03/userdir/wangcx/decals_non_lens_BASS_resulation/PSF/cutout_127.0432_2.2987.fits')"
   ]
  },
  {
   "cell_type": "code",
   "execution_count": null,
   "metadata": {},
   "outputs": [],
   "source": [
    "show(oa)"
   ]
  },
  {
   "cell_type": "code",
   "execution_count": null,
   "metadata": {},
   "outputs": [],
   "source": [
    "np.all(oa[1,77:178,77:178]==0.)"
   ]
  },
  {
   "cell_type": "markdown",
   "metadata": {},
   "source": [
    "### training set test"
   ]
  },
  {
   "cell_type": "code",
   "execution_count": null,
   "metadata": {},
   "outputs": [],
   "source": [
    "data = np.load('/data/dell5/userdir/maotx/Lens/data/training.npy')"
   ]
  },
  {
   "cell_type": "code",
   "execution_count": null,
   "metadata": {},
   "outputs": [],
   "source": [
    "image = data['image']"
   ]
  },
  {
   "cell_type": "code",
   "execution_count": null,
   "metadata": {},
   "outputs": [],
   "source": [
    "booln = np.isnan(image).any(axis=(1,2,3))"
   ]
  },
  {
   "cell_type": "code",
   "execution_count": null,
   "metadata": {},
   "outputs": [],
   "source": [
    "print booln.sum()"
   ]
  },
  {
   "cell_type": "markdown",
   "metadata": {},
   "source": [
    "#### old"
   ]
  },
  {
   "cell_type": "code",
   "execution_count": null,
   "metadata": {},
   "outputs": [],
   "source": [
    "data = np.load('/data/dell5/userdir/maotx/Lens/data_old/training.npy')"
   ]
  },
  {
   "cell_type": "code",
   "execution_count": null,
   "metadata": {},
   "outputs": [],
   "source": [
    "image = data['image']"
   ]
  },
  {
   "cell_type": "code",
   "execution_count": null,
   "metadata": {},
   "outputs": [],
   "source": [
    "booln = np.isnan(image).any(axis=(1,2,3))"
   ]
  },
  {
   "cell_type": "code",
   "execution_count": null,
   "metadata": {},
   "outputs": [],
   "source": [
    "print booln.sum()"
   ]
  },
  {
   "cell_type": "code",
   "execution_count": null,
   "metadata": {},
   "outputs": [],
   "source": []
  },
  {
   "cell_type": "code",
   "execution_count": null,
   "metadata": {},
   "outputs": [],
   "source": [
    "data = np.load('/data/dell5/userdir/maotx/Lens/data_old/test.npy')"
   ]
  },
  {
   "cell_type": "code",
   "execution_count": null,
   "metadata": {},
   "outputs": [],
   "source": [
    "image = data['image']"
   ]
  },
  {
   "cell_type": "code",
   "execution_count": null,
   "metadata": {},
   "outputs": [],
   "source": [
    "booln = np.isnan(image).any(axis=(1,2,3))"
   ]
  },
  {
   "cell_type": "code",
   "execution_count": null,
   "metadata": {},
   "outputs": [],
   "source": [
    "print booln.sum()"
   ]
  },
  {
   "cell_type": "code",
   "execution_count": null,
   "metadata": {},
   "outputs": [],
   "source": []
  },
  {
   "cell_type": "code",
   "execution_count": null,
   "metadata": {},
   "outputs": [],
   "source": [
    "data = np.load('/data/dell5/userdir/maotx/Lens/data_old/valid.npy')"
   ]
  },
  {
   "cell_type": "code",
   "execution_count": null,
   "metadata": {},
   "outputs": [],
   "source": [
    "image = data['image']"
   ]
  },
  {
   "cell_type": "code",
   "execution_count": null,
   "metadata": {},
   "outputs": [],
   "source": [
    "booln = np.isnan(image).any(axis=(1,2,3))"
   ]
  },
  {
   "cell_type": "code",
   "execution_count": null,
   "metadata": {},
   "outputs": [],
   "source": [
    "print booln.sum()"
   ]
  },
  {
   "cell_type": "code",
   "execution_count": null,
   "metadata": {},
   "outputs": [],
   "source": [
    "with open(\"/data/dell5/userdir/maotx/Lens/data/filename_nlens_tr\",'r') as fi:\n",
    "    filenames = fi.readlines()"
   ]
  },
  {
   "cell_type": "code",
   "execution_count": null,
   "metadata": {},
   "outputs": [],
   "source": [
    "filenames = [i.split('101t101/')[-1][:-1] for i in filenames]"
   ]
  },
  {
   "cell_type": "markdown",
   "metadata": {},
   "source": [
    "---"
   ]
  },
  {
   "cell_type": "code",
   "execution_count": null,
   "metadata": {},
   "outputs": [],
   "source": [
    "data = np.load('/data/dell5/userdir/maotx/Lens/data_old/training.npy')"
   ]
  },
  {
   "cell_type": "code",
   "execution_count": null,
   "metadata": {},
   "outputs": [],
   "source": []
  },
  {
   "cell_type": "markdown",
   "metadata": {},
   "source": [
    "### for test"
   ]
  },
  {
   "cell_type": "code",
   "execution_count": null,
   "metadata": {},
   "outputs": [],
   "source": [
    "test_dir_base = '/data/dell5/userdir/maotx/Lens/data'"
   ]
  },
  {
   "cell_type": "markdown",
   "metadata": {},
   "source": [
    "### for test"
   ]
  },
  {
   "cell_type": "code",
   "execution_count": null,
   "metadata": {},
   "outputs": [],
   "source": [
    "fn_train = np.hstack([FNs[i][0] for i in ['lensA', 'lensB','lensC','nlens']])\n",
    "nl1 = np.hstack([FNs[i][0] for i in ['lensA', 'lensB','lensC']]).shape[0]\n",
    "nl0 = np.hstack([FNs[i][0] for i in ['nlens']]).shape[0]\n",
    "print nl1, nl0\n",
    "data_tr = np.empty([len(fn_train)], dtype=dt)\n",
    "data_tr['label'][:nl1]=1\n",
    "data_tr['label'][nl1:nl1+nl0]=0\n",
    "remove = []\n",
    "for i in xrange(len(fn_train)):\n",
    "    try:\n",
    "        data_tr['image'][i] = readdata(os.path.join(DirBase,fn_train[i]))\n",
    "    except ValueError,e:\n",
    "        data_tr['image'][i] = readdata(os.path.join(DirBase,fn_train[i]))[77:178,77:178,:]\n",
    "    except AttributeError:\n",
    "        remove.append(i)\n",
    "        continue\n",
    "data_tr = np.delete(data_tr,remove)\n",
    "print remove"
   ]
  },
  {
   "cell_type": "code",
   "execution_count": null,
   "metadata": {},
   "outputs": [],
   "source": []
  },
  {
   "cell_type": "code",
   "execution_count": null,
   "metadata": {},
   "outputs": [],
   "source": []
  },
  {
   "cell_type": "code",
   "execution_count": null,
   "metadata": {},
   "outputs": [],
   "source": []
  },
  {
   "cell_type": "code",
   "execution_count": null,
   "metadata": {},
   "outputs": [],
   "source": [
    "ss = data['image'][:,0,0,0]"
   ]
  },
  {
   "cell_type": "code",
   "execution_count": null,
   "metadata": {},
   "outputs": [],
   "source": [
    "len(ss), np.unique(ss).shape, 274+17603"
   ]
  },
  {
   "cell_type": "code",
   "execution_count": null,
   "metadata": {},
   "outputs": [],
   "source": [
    "np.isnan(ss).sum()"
   ]
  },
  {
   "cell_type": "code",
   "execution_count": null,
   "metadata": {},
   "outputs": [],
   "source": []
  },
  {
   "cell_type": "code",
   "execution_count": 8,
   "metadata": {},
   "outputs": [],
   "source": [
    "dt = np.dtype([('label', np.int32, 1), ('image', np.float32, [101,101,3])])"
   ]
  },
  {
   "cell_type": "code",
   "execution_count": 12,
   "metadata": {},
   "outputs": [],
   "source": [
    "path = ['/data/inspur_disk03/userdir/wangcx/decals_non_lens_BASS_resulation/PSF/cutout_127.0432_2.2987.fits',\n",
    " '/data/inspur_disk03/userdir/wangcx/decals_non_lens_BASS_resulation/PSF/cutout_239.7944_1.1127.fits']\n",
    "data_tr = np.empty([2], dtype=dt)\n",
    "data_tr['label']=0\n",
    "\n",
    "\n",
    "for i in xrange(len(path)):\n",
    "    try:\n",
    "        data_tr['image'][i] = readdata(path[i])\n",
    "    except ValueError,e:\n",
    "        data_tr['image'][i] = readdata(path[i])[77:178,77:178,:]\n",
    "#    except AttributeError:\n",
    "#        continue"
   ]
  },
  {
   "cell_type": "code",
   "execution_count": 63,
   "metadata": {},
   "outputs": [
    {
     "name": "stdout",
     "output_type": "stream",
     "text": [
      "True\n"
     ]
    }
   ],
   "source": [
    "s = readdata2('/data/inspur_disk03/userdir/wangcx/decals_non_lens_BASS_resulation/PSF/cutout_127.0432_2.2987.fits')\n",
    "ss = readdata('/data/inspur_disk03/userdir/wangcx/decals_non_lens_BASS_resulation/PSF/cutout_127.0432_2.2987.fits')[77:178,77:178,:]\n",
    "\n",
    "print np.any(s[0]==0)"
   ]
  },
  {
   "cell_type": "code",
   "execution_count": 4,
   "metadata": {},
   "outputs": [],
   "source": [
    "def preprocess(func):\n",
    "    def wrapper(*args, **kwargs):\n",
    "        fp = args[0]\n",
    "        data = func(fp).astype(np.float32)\n",
    "        cut = 100\n",
    "        #---------------------------\n",
    "        m = data.mean(axis=(1,2))[:,None,None]\n",
    "        s = data.std(axis=(1,2))[:,None,None]\n",
    "        data -= m\n",
    "        data /= s\n",
    "        data = data.transpose(1,2,0)\n",
    "        #data = np.clip(data,-cut,cut)\n",
    "        #---------------------------\n",
    "        return data\n",
    "    return wrapper"
   ]
  },
  {
   "cell_type": "code",
   "execution_count": 60,
   "metadata": {},
   "outputs": [
    {
     "name": "stdout",
     "output_type": "stream",
     "text": [
      "-0.021385195 -0.021385198 -0.021385198\n"
     ]
    }
   ],
   "source": [
    "print ss[:,:,0].mean(),ss[:,:,0].min(),ss[:,:,0].max()"
   ]
  },
  {
   "cell_type": "code",
   "execution_count": 64,
   "metadata": {},
   "outputs": [
    {
     "name": "stdout",
     "output_type": "stream",
     "text": [
      "[[[0.22182262]]\n",
      "\n",
      " [[0.35037267]]\n",
      "\n",
      " [[0.11469024]]] [[[0.00474372]]\n",
      "\n",
      " [[0.00731582]]\n",
      "\n",
      " [[0.00547408]]]\n",
      "[[[ 3.93201411e-03 -2.96581946e-02  9.67664830e-03]\n",
      "  [-1.91887678e-03 -1.30128618e-02  2.75288612e-01]\n",
      "  [-2.37886906e-02 -2.64117587e-02 -4.07485992e-01]\n",
      "  ...\n",
      "  [-1.07017383e-02 -1.24342870e-02  7.08917389e-03]\n",
      "  [-9.75589361e-03 -3.18763703e-02 -8.14540759e-02]\n",
      "  [-5.19861132e-02 -1.95009708e-02 -5.53842857e-02]]\n",
      "\n",
      " [[-3.12871411e-02 -4.92690578e-02  6.11210838e-02]\n",
      "  [ 1.94552355e-02 -2.63010673e-02 -2.17747256e-01]\n",
      "  [-9.05729365e-03 -1.98204499e-02 -1.49037331e-01]\n",
      "  ...\n",
      "  [-3.69265787e-02 -5.56352027e-02 -6.58669919e-02]\n",
      "  [-1.62454899e-02 -6.83860714e-03 -6.33028597e-02]\n",
      "  [-3.29924747e-03 -3.89569141e-02 -2.32596740e-01]]\n",
      "\n",
      " [[-2.22927239e-02 -3.92352371e-03 -1.42275691e-01]\n",
      "  [-2.92510632e-02 -1.23122502e-02  9.10894647e-02]\n",
      "  [ 2.67526843e-02 -6.01387303e-03  1.09063745e-01]\n",
      "  ...\n",
      "  [-6.46895841e-02  4.74961847e-03 -2.40510225e-01]\n",
      "  [-1.03336116e-02 -3.81825306e-02 -2.58555859e-01]\n",
      "  [-3.56324716e-04  2.55238526e-02 -1.95377782e-01]]\n",
      "\n",
      " ...\n",
      "\n",
      " [[-5.39645031e-02 -2.48895418e-02 -4.30338904e-02]\n",
      "  [-1.41691007e-02 -1.50277531e-02  1.02858515e-02]\n",
      "  [-6.27635345e-02 -8.29951372e-03 -3.57133187e-02]\n",
      "  ...\n",
      "  [-3.93622443e-02 -8.13696242e-04 -6.78019896e-02]\n",
      "  [ 1.45560717e-02 -6.65551871e-02  1.12313099e-01]\n",
      "  [-5.20439073e-03  1.36906325e-04 -1.75261408e-01]]\n",
      "\n",
      " [[ 2.88210739e-03 -3.33258845e-02 -1.82982922e-01]\n",
      "  [-3.14208493e-02  1.54086286e-02  1.37008548e-01]\n",
      "  [-4.16074768e-02  3.89375314e-02 -2.27000136e-02]\n",
      "  ...\n",
      "  [-5.87043129e-02 -2.94008609e-02 -1.71687722e-01]\n",
      "  [-6.06668852e-02 -2.49542128e-02 -1.57232255e-01]\n",
      "  [-6.48170859e-02 -3.15292575e-03 -1.20436430e-01]]\n",
      "\n",
      " [[-1.34264799e-02 -6.37195781e-02  1.90342352e-01]\n",
      "  [-9.05315392e-03 -1.63370408e-02 -1.48398364e-02]\n",
      "  [-1.85751058e-02 -6.30967319e-02 -5.44654168e-02]\n",
      "  ...\n",
      "  [-3.94506864e-02 -3.44715603e-02 -1.07446954e-01]\n",
      "  [-4.77788858e-02 -3.43345329e-02 -1.05970632e-02]\n",
      "  [-5.63124847e-03  1.58170182e-02 -3.54355872e-02]]]\n"
     ]
    }
   ],
   "source": [
    "s = s.astype(np.float32)\n",
    "std = s.std(axis=(1,2))[:,None,None]\n",
    "mean = s.mean(axis=(1,2))[:,None,None]\n",
    "print std, mean\n",
    "s -= mean\n",
    "s /= std\n",
    "s = s.transpose(1,2,0)\n",
    "print s"
   ]
  },
  {
   "cell_type": "code",
   "execution_count": null,
   "metadata": {},
   "outputs": [],
   "source": []
  }
 ],
 "metadata": {
  "kernelspec": {
   "display_name": "Python 2",
   "language": "python",
   "name": "python2"
  },
  "language_info": {
   "codemirror_mode": {
    "name": "ipython",
    "version": 2
   },
   "file_extension": ".py",
   "mimetype": "text/x-python",
   "name": "python",
   "nbconvert_exporter": "python",
   "pygments_lexer": "ipython2",
   "version": "2.7.15"
  }
 },
 "nbformat": 4,
 "nbformat_minor": 2
}
