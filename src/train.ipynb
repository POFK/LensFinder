{
 "cells": [
  {
   "cell_type": "code",
   "execution_count": 1,
   "metadata": {
    "ExecuteTime": {
     "end_time": "2019-08-22T08:00:11.004516Z",
     "start_time": "2019-08-22T08:00:11.000213Z"
    }
   },
   "outputs": [
    {
     "name": "stdout",
     "output_type": "stream",
     "text": [
      "/home/mtx/workspace/LensFinder\n"
     ]
    }
   ],
   "source": [
    "%cd /home/mtx/workspace/LensFinder"
   ]
  },
  {
   "cell_type": "markdown",
   "metadata": {},
   "source": [
    "### 0822 run"
   ]
  },
  {
   "cell_type": "markdown",
   "metadata": {
    "deletable": false,
    "editable": false,
    "run_control": {
     "frozen": true
    }
   },
   "source": [
    "use all lens images both in old training set and BASS result found by previous network. train: 90%, validation: 10% \n",
    "For consistency, we should use the special hyper-parameters in network model 049: \n",
    "\n",
    "```\n",
    "python lens/main.py --lr 0.00001 --weight_decay 0.5 --name lens_049 --epochs 50 --test_batch_size 1024  --batch_size 256\n",
    "python lens/main.py --lr 0.000001 --weight_decay 0.5 --name lens_049 --epochs 50 --test_batch_size 1024  --batch_size 256 --epoch 50\n",
    "```\n",
    "\n",
    "and select the model in 45-th epoch iteration "
   ]
  },
  {
   "cell_type": "markdown",
   "metadata": {},
   "source": [
    "#### lens_100"
   ]
  },
  {
   "cell_type": "code",
   "execution_count": 18,
   "metadata": {
    "ExecuteTime": {
     "end_time": "2019-08-22T07:27:21.768924Z",
     "start_time": "2019-08-22T07:14:30.962367Z"
    },
    "collapsed": true,
    "deletable": false,
    "editable": false,
    "run_control": {
     "frozen": true
    }
   },
   "outputs": [
    {
     "name": "stdout",
     "output_type": "stream",
     "text": [
      "mkdir:  /data/storage1/LensFinder/log/lens_100\n",
      "mkdir:  /data/storage1/LensFinder/model/lens_100\n",
      "Let's use 4 GPUs!\n",
      "1 0.6956857227545166\n",
      "2 0.690484913367959\n",
      "3 0.6876441475403544\n",
      "4 0.6842397220321662\n",
      "5 0.6826491088119477\n",
      "6 0.6771980814202122\n",
      "7 0.6716798689572957\n",
      "8 0.6622002286771101\n",
      "9 0.649195518930581\n",
      "10 0.6264870542067068\n",
      "11 0.6030018420217128\n",
      "12 0.585555140360896\n",
      "13 0.5729263655665747\n",
      "14 0.5634049096894184\n",
      "15 0.5454976084199074\n",
      "16 0.5249520684160138\n",
      "17 0.5013723168136868\n",
      "18 0.49030732707142427\n",
      "19 0.46776374734440007\n",
      "20 0.44576272607824446\n",
      "21 0.4327242394059022\n",
      "22 0.4031938747496144\n",
      "23 0.38362634880087476\n",
      "24 0.3630278811768995\n",
      "25 0.36417965978713723\n",
      "26 0.3855996144081664\n",
      "27 0.3497840656203224\n",
      "28 0.2990858446898054\n",
      "29 0.3056893090951781\n",
      "30 0.2883673225130354\n",
      "31 0.2593200626770082\n",
      "32 0.2627677348383692\n",
      "33 0.2676120036608213\n",
      "34 0.2317871159375316\n",
      "35 0.29563738978385007\n",
      "36 0.2364082736083669\n",
      "37 0.24122603298552395\n",
      "38 0.5019560058051545\n",
      "39 0.24516494721962662\n",
      "40 0.2818814788001154\n",
      "41 0.27143810985465644\n",
      "42 0.31092622933507025\n",
      "43 0.22343169465954915\n",
      "44 0.42545755072073504\n",
      "45 0.205997361636265\n",
      "46 0.19483917125175068\n",
      "47 0.18581390159384684\n",
      "48 0.17941753804224966\n",
      "49 0.22625953931685763\n",
      "50 0.2045812893223453\n"
     ]
    }
   ],
   "source": [
    "%run lens/main.py --lr 0.00001 --weight_decay 0.5 --name lens_100 --epochs 50 --test_batch_size 1024  --batch_size 256"
   ]
  },
  {
   "cell_type": "markdown",
   "metadata": {},
   "source": [
    "#### lens_103 (%run not good, use !python)"
   ]
  },
  {
   "cell_type": "code",
   "execution_count": 2,
   "metadata": {
    "ExecuteTime": {
     "end_time": "2019-08-22T08:25:43.788271Z",
     "start_time": "2019-08-22T08:00:11.074079Z"
    },
    "collapsed": true,
    "deletable": false,
    "editable": false,
    "run_control": {
     "frozen": true
    }
   },
   "outputs": [
    {
     "name": "stdout",
     "output_type": "stream",
     "text": [
      "mkdir:  /data/storage1/LensFinder/log/lens_103\n",
      "mkdir:  /data/storage1/LensFinder/model/lens_103\n",
      "Namespace(base_dir='/data/storage1/LensFinder', batch_size=256, crop_range=84, epoch=0, epochs=50, log_dir='log', lr=1e-05, mode='train', model_dir='model', name='lens_103', no_cuda=False, num_class=2, seed=1, test_batch_size=1024, use_cuda=True, weight_decay=0.5)\n",
      "Let's use 4 GPUs!\n",
      "1 0.6910800227125773\n",
      "2 0.6878389137877243\n",
      "3 0.6843620921740915\n",
      "4 0.6789649152423167\n",
      "5 0.675380671351159\n",
      "6 0.6683106664397959\n",
      "7 0.6611959302637541\n",
      "8 0.653506474634843\n",
      "9 0.6456117083843996\n",
      "10 0.6326125130279526\n",
      "11 0.6202937855979695\n",
      "12 0.605306209911229\n",
      "13 0.5843567803193882\n",
      "14 0.5540765018174143\n",
      "15 0.518867439235157\n",
      "16 0.4935162745455585\n",
      "17 0.47305684831636696\n",
      "18 0.45060590685073315\n",
      "19 0.43623806587086666\n",
      "20 0.4139654245039429\n",
      "21 0.38713746282445405\n",
      "22 0.38956256931134287\n",
      "23 0.3604991829211807\n",
      "24 0.35810518833867283\n",
      "25 0.3643959720241387\n",
      "26 0.35683729434712913\n",
      "27 0.31205919369187934\n",
      "28 0.3474196950479905\n",
      "29 0.32900663861980683\n",
      "30 0.307678969950559\n",
      "31 0.2891152367361352\n",
      "32 0.27846892884054\n",
      "33 0.34225783910299507\n",
      "34 0.32714650615469204\n",
      "35 0.2513593136404156\n",
      "36 0.37840114933129054\n",
      "37 0.23304659045046486\n",
      "38 0.27051757500399876\n",
      "39 0.2679320280084018\n",
      "40 0.32780024678790837\n",
      "41 0.22200594279787872\n",
      "42 0.32911422321176004\n",
      "43 0.24489635210475308\n",
      "44 0.252687994270671\n",
      "45 0.21233589396762298\n",
      "46 0.4263598636229948\n",
      "47 0.42719040308622513\n",
      "48 0.33191453851490654\n",
      "49 0.3276508787092307\n",
      "50 0.22165041585677286\n",
      "Namespace(base_dir='/data/storage1/LensFinder', batch_size=256, crop_range=84, epoch=50, epochs=50, log_dir='log', lr=1e-06, mode='train', model_dir='model', name='lens_103', no_cuda=False, num_class=2, seed=1, test_batch_size=1024, use_cuda=True, weight_decay=0.5)\n",
      "load model /data/storage1/LensFinder/model/lens_103/lens_103_50.cpt\n",
      "Let's use 4 GPUs!\n",
      "50 0.234842638131688\n",
      "51 0.2662854230478442\n",
      "52 0.6352205963132472\n",
      "53 0.4278444622129474\n",
      "54 0.26108513952391027\n",
      "55 0.19081426288945105\n",
      "56 0.3253341744214425\n",
      "57 0.19876497331693116\n",
      "58 0.20539435520660654\n",
      "59 0.1649572635253156\n",
      "60 0.18375286169640428\n",
      "61 0.18781755713386683\n",
      "62 0.25134853146407626\n",
      "63 0.21370648168038153\n",
      "64 0.33228911256606675\n",
      "65 0.17274393668078414\n",
      "66 0.3699963766545731\n",
      "67 0.37422827425170485\n",
      "68 0.22392091838828412\n",
      "69 0.1611208234084461\n",
      "70 0.5158707833221292\n",
      "71 0.815258243641296\n",
      "72 0.23251708595152942\n",
      "73 0.2472268013770102\n",
      "74 0.15925389111128033\n",
      "75 0.6828232029701093\n",
      "76 0.6305837697739668\n",
      "77 0.34247457363274075\n",
      "78 0.3977720002792041\n",
      "79 0.46808279240114176\n",
      "80 0.3309604815418414\n",
      "81 0.298469813498469\n",
      "82 0.2880436049710678\n",
      "83 0.19300507831854452\n",
      "84 0.409634270164587\n",
      "85 0.40369655846287966\n",
      "86 0.4380994400994144\n",
      "87 0.20680430547986942\n",
      "88 0.16742332438799898\n",
      "89 0.22281285731221345\n",
      "90 0.7374647408795506\n",
      "91 0.1454490035872668\n",
      "92 0.6963650686858995\n",
      "93 0.4877620702784127\n",
      "94 0.7025374668673176\n",
      "95 0.35650536607182215\n",
      "96 0.2949068876428636\n",
      "97 0.984252337654833\n",
      "98 0.28788088202591183\n",
      "99 0.3708917307647276\n"
     ]
    }
   ],
   "source": [
    "!python lens/main.py --lr 0.00001 --weight_decay 0.5 --name lens_103 --epochs 50 --test_batch_size 1024  --batch_size 256\n",
    "!python lens/main.py --lr 0.000001 --weight_decay 0.5 --name lens_103 --epochs 50 --test_batch_size 1024  --batch_size 256 --epoch 50"
   ]
  },
  {
   "cell_type": "code",
   "execution_count": 4,
   "metadata": {
    "ExecuteTime": {
     "end_time": "2019-08-22T08:31:02.473245Z",
     "start_time": "2019-08-22T08:30:05.154760Z"
    },
    "collapsed": true,
    "deletable": false,
    "editable": false,
    "run_control": {
     "frozen": true
    }
   },
   "outputs": [
    {
     "name": "stdout",
     "output_type": "stream",
     "text": [
      "Namespace(base_dir='/data/storage1/LensFinder', batch_size=256, crop_range=84, epoch=40, epochs=10, log_dir='log', lr=1e-05, mode='eval', model_dir='model', name='lens_103', no_cuda=False, num_class=2, seed=1, test_batch_size=512, use_cuda=True, weight_decay=0.0)\n",
      "Let's use 4 GPUs!\n",
      "loading /data/storage1/LensFinder/model/lens_103/lens_103_40.cpt 40\n",
      "Namespace(base_dir='/data/storage1/LensFinder', batch_size=256, crop_range=84, epoch=45, epochs=10, log_dir='log', lr=1e-05, mode='eval', model_dir='model', name='lens_103', no_cuda=False, num_class=2, seed=1, test_batch_size=512, use_cuda=True, weight_decay=0.0)\n",
      "Let's use 4 GPUs!\n",
      "loading /data/storage1/LensFinder/model/lens_103/lens_103_45.cpt 45\n",
      "Namespace(base_dir='/data/storage1/LensFinder', batch_size=256, crop_range=84, epoch=50, epochs=10, log_dir='log', lr=1e-05, mode='eval', model_dir='model', name='lens_103', no_cuda=False, num_class=2, seed=1, test_batch_size=512, use_cuda=True, weight_decay=0.0)\n",
      "Let's use 4 GPUs!\n",
      "loading /data/storage1/LensFinder/model/lens_103/lens_103_50.cpt 50\n",
      "Namespace(base_dir='/data/storage1/LensFinder', batch_size=256, crop_range=84, epoch=60, epochs=10, log_dir='log', lr=1e-05, mode='eval', model_dir='model', name='lens_103', no_cuda=False, num_class=2, seed=1, test_batch_size=512, use_cuda=True, weight_decay=0.0)\n",
      "Let's use 4 GPUs!\n",
      "loading /data/storage1/LensFinder/model/lens_103/lens_103_60.cpt 60\n"
     ]
    }
   ],
   "source": [
    "!python lens/main.py  --name lens_103 --batch_size 256 --epoch 40 --mode eval\n",
    "!python lens/main.py  --name lens_103 --batch_size 256 --epoch 45 --mode eval\n",
    "!python lens/main.py  --name lens_103 --batch_size 256 --epoch 50 --mode eval\n",
    "!python lens/main.py  --name lens_103 --batch_size 256 --epoch 60 --mode eval"
   ]
  },
  {
   "cell_type": "code",
   "execution_count": null,
   "metadata": {},
   "outputs": [],
   "source": [
    "a = 3"
   ]
  }
 ],
 "metadata": {
  "hide_input": false,
  "kernelspec": {
   "display_name": "P100",
   "language": "python",
   "name": "rik_ssh_mtx_p100__p_10299_p100_32"
  },
  "language_info": {
   "codemirror_mode": {
    "name": "ipython",
    "version": 3
   },
   "file_extension": ".py",
   "mimetype": "text/x-python",
   "name": "python",
   "nbconvert_exporter": "python",
   "pygments_lexer": "ipython3",
   "version": "3.6.8"
  },
  "latex_envs": {
   "LaTeX_envs_menu_present": true,
   "autoclose": false,
   "autocomplete": true,
   "bibliofile": "biblio.bib",
   "cite_by": "apalike",
   "current_citInitial": 1,
   "eqLabelWithNumbers": true,
   "eqNumInitial": 1,
   "hotkeys": {
    "equation": "Ctrl-E",
    "itemize": "Ctrl-I"
   },
   "labels_anchors": false,
   "latex_user_defs": false,
   "report_style_numbering": false,
   "user_envs_cfg": false
  },
  "toc": {
   "base_numbering": 1,
   "nav_menu": {},
   "number_sections": true,
   "sideBar": true,
   "skip_h1_title": false,
   "title_cell": "Table of Contents",
   "title_sidebar": "Contents",
   "toc_cell": false,
   "toc_position": {},
   "toc_section_display": true,
   "toc_window_display": false
  },
  "varInspector": {
   "cols": {
    "lenName": 16,
    "lenType": 16,
    "lenVar": 40
   },
   "kernels_config": {
    "python": {
     "delete_cmd_postfix": "",
     "delete_cmd_prefix": "del ",
     "library": "var_list.py",
     "varRefreshCmd": "print(var_dic_list())"
    },
    "r": {
     "delete_cmd_postfix": ") ",
     "delete_cmd_prefix": "rm(",
     "library": "var_list.r",
     "varRefreshCmd": "cat(var_dic_list()) "
    }
   },
   "position": {
    "height": "143.6px",
    "left": "898px",
    "right": "20px",
    "top": "121px",
    "width": "350px"
   },
   "types_to_exclude": [
    "module",
    "function",
    "builtin_function_or_method",
    "instance",
    "_Feature"
   ],
   "window_display": false
  }
 },
 "nbformat": 4,
 "nbformat_minor": 2
}
