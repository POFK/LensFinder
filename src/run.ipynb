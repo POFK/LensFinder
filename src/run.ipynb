{
 "cells": [
  {
   "cell_type": "markdown",
   "metadata": {},
   "source": [
    "## Model"
   ]
  },
  {
   "cell_type": "code",
   "execution_count": 1,
   "metadata": {},
   "outputs": [],
   "source": [
    "name = 'ResNN_329'\n",
    "batch_size = 128\n",
    "model_basename = 'ResNN4'\n",
    "train_steps = 20000\n",
    "import sys; sys.argv=['', \n",
    "                      '--log_dir', '/nfs/P100/DSC/log/%s'%name, \n",
    "                      '--model_dir', '/nfs/P100/DSC/model/%s'%name, \n",
    "                      '--batch_size', '%d'%batch_size,\n",
    "                      '--model_basename', model_basename,\n",
    "                      '--train_steps', '%d'%train_steps,\n",
    "                      '--learning_rate', '1e-4',\n",
    "                      '--Is_BN', 'True',\n",
    "                      '--weight_decay','5e-6',\n",
    "                     ];\n",
    "del sys\n",
    "import os\n",
    "os.environ['CUDA_VISIBLE_DEVICES'] = '3'"
   ]
  },
  {
   "cell_type": "code",
   "execution_count": 2,
   "metadata": {},
   "outputs": [
    {
     "name": "stderr",
     "output_type": "stream",
     "text": [
      "/home/mtx/local/anaconda2/envs/tf1.5/lib/python2.7/site-packages/h5py/__init__.py:36: FutureWarning: Conversion of the second argument of issubdtype from `float` to `np.floating` is deprecated. In future, it will be treated as `np.float64 == np.dtype(float).type`.\n",
      "  from ._conv import register_converters as _register_converters\n"
     ]
    }
   ],
   "source": [
    "import tensorflow as tf\n",
    "import numpy as np\n",
    "import tqdm\n",
    "tf.logging.set_verbosity(tf.logging.INFO)"
   ]
  },
  {
   "cell_type": "code",
   "execution_count": 3,
   "metadata": {},
   "outputs": [],
   "source": [
    "from tftool.main import Main"
   ]
  },
  {
   "cell_type": "code",
   "execution_count": 4,
   "metadata": {},
   "outputs": [
    {
     "name": "stdout",
     "output_type": "stream",
     "text": [
      "INFO:tensorflow:(<class 'tftool.main.Main'>, <class 'tftool.Train.Train'>, <class 'tftool.Network.Model'>, <class 'tftool.InputPipeline.InputPipeline'>, <class 'tftool.Utils.Toolkit'>, <class 'tftool.Base.Base'>, <type 'object'>)\n",
      "Namespace(Is_BN=True, batch_size=128, learning_rate=0.0001, log_dir='/nfs/P100/DSC/log/ResNN_329', model_basename='ResNN4', model_dir='/nfs/P100/DSC/model/ResNN_329', train_steps=20000, weight_decay=5e-06)\n"
     ]
    }
   ],
   "source": [
    "class RunWapper(Main):\n",
    "    def __init__(self, *args, **kwargs):\n",
    "        super(RunWapper, self).__init__(*args, **kwargs)\n",
    "        self.data_shape = 4801\n",
    "    def __call__(self):\n",
    "        \"\"\"an example for constructing network model\"\"\"\n",
    "        self.train_filenames = [\"/nfs/P100/DSC/data/1218/training.tfrecords\"]\n",
    "        self.valid_filenames = [\"/nfs/P100/DSC/data/1218/valid.tfrecords\"]\n",
    "        self.Is_training = tf.placeholder(tf.bool,shape=[],name='is_train')\n",
    "        x, y_ = self.loaddata(shuffle=True)\n",
    "        net = self.inference(x, is_training=self.Is_training)\n",
    "        loss = self.Loss_fn(self, net=net, y_=y_)\n",
    "        train_op = self.optimizer(loss, gclip=1.0)\n",
    "        self.train(loss, train_op)  \n",
    "    \n",
    "    def eval(self, flux, label):\n",
    "        BS = self.FLAGS.batch_size\n",
    "        label = label.astype(np.int32)\n",
    "        print flux.dtype, flux.shape\n",
    "        print label.dtype, label.shape\n",
    "        if label.shape[0]%BS == 0:\n",
    "            loop_num = label.shape[0]//BS\n",
    "        else:\n",
    "            loop_num = label.shape[0]//BS + 1\n",
    "        print \"loop number: %d\"%loop_num\n",
    "        #------------------------------------------------------------\n",
    "        x = tf.placeholder(tf.float32, shape=[None, self.data_shape])\n",
    "        y_ = tf.placeholder(tf.int32, shape=[None])\n",
    "        net = self.inference(x, is_training=False)\n",
    "        loss = self.Loss_fn(self, net=net, y_=y_)\n",
    "        prob = tf.get_collection('prob')[0]\n",
    "        LOSS = []\n",
    "        PROB = []\n",
    "        with tf.Session(config=self.config) as sess:\n",
    "            self.Saver = tf.train.Saver(max_to_keep=1)\n",
    "            self.init_model(sess)\n",
    "            coord = tf.train.Coordinator()\n",
    "            threads = tf.train.start_queue_runners(sess=sess, coord=coord)\n",
    "            for i in tqdm.tqdm(xrange(loop_num)):\n",
    "                el, ep, = sess.run([loss, prob], \n",
    "                                   feed_dict={x:flux[i*BS:(i+1)*BS],\n",
    "                                              y_:label[i*BS:(i+1)*BS]})\n",
    "                LOSS.append(el)\n",
    "                PROB.append(ep)\n",
    "            coord.request_stop()\n",
    "            coord.join(threads)\n",
    "        LOSS = np.array(LOSS)\n",
    "        PROB = np.vstack(PROB)\n",
    "        return LOSS, PROB\n",
    "dsc = RunWapper()\n",
    "print dsc.FLAGS"
   ]
  },
  {
   "cell_type": "code",
   "execution_count": 5,
   "metadata": {},
   "outputs": [],
   "source": [
    "config = tf.ConfigProto(allow_soft_placement=True)\n",
    "gpu_options = tf.GPUOptions(per_process_gpu_memory_fraction=1.0)\n",
    "config.gpu_options.allow_growth = True\n",
    "dsc.opt = tf.train.AdamOptimizer\n",
    "#dsc.opt = tf.train.GradientDescentOptimizer\n",
    "dsc.Is_summary = True\n",
    "dsc.update_log_step =100\n",
    "dsc.save_per_steps = 1000\n",
    "dsc.print_log = False \n",
    "dsc.valid_size = 6144\n",
    "dsc.config = config"
   ]
  },
  {
   "cell_type": "markdown",
   "metadata": {},
   "source": [
    "### training"
   ]
  },
  {
   "cell_type": "code",
   "execution_count": 6,
   "metadata": {},
   "outputs": [
    {
     "name": "stdout",
     "output_type": "stream",
     "text": [
      "INFO:tensorflow:Tensor(\"InputPipeline/input_fn/IteratorGetNext:0\", shape=(?, 4801), dtype=float32)\n",
      "INFO:tensorflow:==========ResNet_sigmoid==========\n",
      "INFO:tensorflow:load variable from /nfs/P100/DSC/model/ResNN_329/ResNN4-5999\n",
      "INFO:tensorflow:Restoring parameters from /nfs/P100/DSC/model/ResNN_329/ResNN4-5999\n"
     ]
    },
    {
     "name": "stderr",
     "output_type": "stream",
     "text": [
      "  3%|▎         | 600/20000 [00:32<15:58, 20.24it/s]"
     ]
    },
    {
     "name": "stdout",
     "output_type": "stream",
     "text": [
      "epoch 1: 0.320394\n"
     ]
    },
    {
     "name": "stderr",
     "output_type": "stream",
     "text": [
      "  7%|▋         | 1400/20000 [01:12<15:14, 20.35it/s]"
     ]
    },
    {
     "name": "stdout",
     "output_type": "stream",
     "text": [
      "epoch 2: 0.325689\n"
     ]
    },
    {
     "name": "stderr",
     "output_type": "stream",
     "text": [
      " 11%|█         | 2200/20000 [01:52<14:35, 20.33it/s]"
     ]
    },
    {
     "name": "stdout",
     "output_type": "stream",
     "text": [
      "epoch 3: 0.329543\n"
     ]
    },
    {
     "ename": "KeyboardInterrupt",
     "evalue": "",
     "output_type": "error",
     "traceback": [
      "\u001b[0;31m---------------------------------------------------------------------------\u001b[0m",
      "\u001b[0;31mKeyboardInterrupt\u001b[0m                         Traceback (most recent call last)",
      "\u001b[0;32m<ipython-input-6-2a596732ef22>\u001b[0m in \u001b[0;36m<module>\u001b[0;34m()\u001b[0m\n\u001b[0;32m----> 1\u001b[0;31m \u001b[0mdsc\u001b[0m\u001b[0;34m(\u001b[0m\u001b[0;34m)\u001b[0m\u001b[0;34m\u001b[0m\u001b[0m\n\u001b[0m",
      "\u001b[0;32m<ipython-input-4-bb2ba0c087c6>\u001b[0m in \u001b[0;36m__call__\u001b[0;34m(self)\u001b[0m\n\u001b[1;32m     12\u001b[0m         \u001b[0mloss\u001b[0m \u001b[0;34m=\u001b[0m \u001b[0mself\u001b[0m\u001b[0;34m.\u001b[0m\u001b[0mLoss_fn\u001b[0m\u001b[0;34m(\u001b[0m\u001b[0mself\u001b[0m\u001b[0;34m,\u001b[0m \u001b[0mnet\u001b[0m\u001b[0;34m=\u001b[0m\u001b[0mnet\u001b[0m\u001b[0;34m,\u001b[0m \u001b[0my_\u001b[0m\u001b[0;34m=\u001b[0m\u001b[0my_\u001b[0m\u001b[0;34m)\u001b[0m\u001b[0;34m\u001b[0m\u001b[0m\n\u001b[1;32m     13\u001b[0m         \u001b[0mtrain_op\u001b[0m \u001b[0;34m=\u001b[0m \u001b[0mself\u001b[0m\u001b[0;34m.\u001b[0m\u001b[0moptimizer\u001b[0m\u001b[0;34m(\u001b[0m\u001b[0mloss\u001b[0m\u001b[0;34m,\u001b[0m \u001b[0mgclip\u001b[0m\u001b[0;34m=\u001b[0m\u001b[0;36m1.0\u001b[0m\u001b[0;34m)\u001b[0m\u001b[0;34m\u001b[0m\u001b[0m\n\u001b[0;32m---> 14\u001b[0;31m         \u001b[0mself\u001b[0m\u001b[0;34m.\u001b[0m\u001b[0mtrain\u001b[0m\u001b[0;34m(\u001b[0m\u001b[0mloss\u001b[0m\u001b[0;34m,\u001b[0m \u001b[0mtrain_op\u001b[0m\u001b[0;34m)\u001b[0m\u001b[0;34m\u001b[0m\u001b[0m\n\u001b[0m\u001b[1;32m     15\u001b[0m \u001b[0;34m\u001b[0m\u001b[0m\n\u001b[1;32m     16\u001b[0m     \u001b[0;32mdef\u001b[0m \u001b[0meval\u001b[0m\u001b[0;34m(\u001b[0m\u001b[0mself\u001b[0m\u001b[0;34m,\u001b[0m \u001b[0mflux\u001b[0m\u001b[0;34m,\u001b[0m \u001b[0mlabel\u001b[0m\u001b[0;34m)\u001b[0m\u001b[0;34m:\u001b[0m\u001b[0;34m\u001b[0m\u001b[0m\n",
      "\u001b[0;32m/home/mtx/git/DSCNN/tftool/main.pyc\u001b[0m in \u001b[0;36mtrain\u001b[0;34m(self, loss, train_op)\u001b[0m\n\u001b[1;32m    105\u001b[0m                 \u001b[0;32mtry\u001b[0m\u001b[0;34m:\u001b[0m\u001b[0;34m\u001b[0m\u001b[0m\n\u001b[1;32m    106\u001b[0m                     _, step = sess.run([train_op, global_step], \n\u001b[0;32m--> 107\u001b[0;31m                                        feed_dict={self.Is_training: True})\n\u001b[0m\u001b[1;32m    108\u001b[0m                 \u001b[0;32mexcept\u001b[0m \u001b[0mtf\u001b[0m\u001b[0;34m.\u001b[0m\u001b[0merrors\u001b[0m\u001b[0;34m.\u001b[0m\u001b[0mOutOfRangeError\u001b[0m\u001b[0;34m:\u001b[0m\u001b[0;34m\u001b[0m\u001b[0m\n\u001b[1;32m    109\u001b[0m                     sess.run(iterator_handle, \n",
      "\u001b[0;32m/home/mtx/local/anaconda2/envs/tf1.5/lib/python2.7/site-packages/tensorflow/python/client/session.pyc\u001b[0m in \u001b[0;36mrun\u001b[0;34m(self, fetches, feed_dict, options, run_metadata)\u001b[0m\n\u001b[1;32m    893\u001b[0m     \u001b[0;32mtry\u001b[0m\u001b[0;34m:\u001b[0m\u001b[0;34m\u001b[0m\u001b[0m\n\u001b[1;32m    894\u001b[0m       result = self._run(None, fetches, feed_dict, options_ptr,\n\u001b[0;32m--> 895\u001b[0;31m                          run_metadata_ptr)\n\u001b[0m\u001b[1;32m    896\u001b[0m       \u001b[0;32mif\u001b[0m \u001b[0mrun_metadata\u001b[0m\u001b[0;34m:\u001b[0m\u001b[0;34m\u001b[0m\u001b[0m\n\u001b[1;32m    897\u001b[0m         \u001b[0mproto_data\u001b[0m \u001b[0;34m=\u001b[0m \u001b[0mtf_session\u001b[0m\u001b[0;34m.\u001b[0m\u001b[0mTF_GetBuffer\u001b[0m\u001b[0;34m(\u001b[0m\u001b[0mrun_metadata_ptr\u001b[0m\u001b[0;34m)\u001b[0m\u001b[0;34m\u001b[0m\u001b[0m\n",
      "\u001b[0;32m/home/mtx/local/anaconda2/envs/tf1.5/lib/python2.7/site-packages/tensorflow/python/client/session.pyc\u001b[0m in \u001b[0;36m_run\u001b[0;34m(self, handle, fetches, feed_dict, options, run_metadata)\u001b[0m\n\u001b[1;32m   1126\u001b[0m     \u001b[0;32mif\u001b[0m \u001b[0mfinal_fetches\u001b[0m \u001b[0;32mor\u001b[0m \u001b[0mfinal_targets\u001b[0m \u001b[0;32mor\u001b[0m \u001b[0;34m(\u001b[0m\u001b[0mhandle\u001b[0m \u001b[0;32mand\u001b[0m \u001b[0mfeed_dict_tensor\u001b[0m\u001b[0;34m)\u001b[0m\u001b[0;34m:\u001b[0m\u001b[0;34m\u001b[0m\u001b[0m\n\u001b[1;32m   1127\u001b[0m       results = self._do_run(handle, final_targets, final_fetches,\n\u001b[0;32m-> 1128\u001b[0;31m                              feed_dict_tensor, options, run_metadata)\n\u001b[0m\u001b[1;32m   1129\u001b[0m     \u001b[0;32melse\u001b[0m\u001b[0;34m:\u001b[0m\u001b[0;34m\u001b[0m\u001b[0m\n\u001b[1;32m   1130\u001b[0m       \u001b[0mresults\u001b[0m \u001b[0;34m=\u001b[0m \u001b[0;34m[\u001b[0m\u001b[0;34m]\u001b[0m\u001b[0;34m\u001b[0m\u001b[0m\n",
      "\u001b[0;32m/home/mtx/local/anaconda2/envs/tf1.5/lib/python2.7/site-packages/tensorflow/python/client/session.pyc\u001b[0m in \u001b[0;36m_do_run\u001b[0;34m(self, handle, target_list, fetch_list, feed_dict, options, run_metadata)\u001b[0m\n\u001b[1;32m   1342\u001b[0m     \u001b[0;32mif\u001b[0m \u001b[0mhandle\u001b[0m \u001b[0;32mis\u001b[0m \u001b[0mNone\u001b[0m\u001b[0;34m:\u001b[0m\u001b[0;34m\u001b[0m\u001b[0m\n\u001b[1;32m   1343\u001b[0m       return self._do_call(_run_fn, self._session, feeds, fetches, targets,\n\u001b[0;32m-> 1344\u001b[0;31m                            options, run_metadata)\n\u001b[0m\u001b[1;32m   1345\u001b[0m     \u001b[0;32melse\u001b[0m\u001b[0;34m:\u001b[0m\u001b[0;34m\u001b[0m\u001b[0m\n\u001b[1;32m   1346\u001b[0m       \u001b[0;32mreturn\u001b[0m \u001b[0mself\u001b[0m\u001b[0;34m.\u001b[0m\u001b[0m_do_call\u001b[0m\u001b[0;34m(\u001b[0m\u001b[0m_prun_fn\u001b[0m\u001b[0;34m,\u001b[0m \u001b[0mself\u001b[0m\u001b[0;34m.\u001b[0m\u001b[0m_session\u001b[0m\u001b[0;34m,\u001b[0m \u001b[0mhandle\u001b[0m\u001b[0;34m,\u001b[0m \u001b[0mfeeds\u001b[0m\u001b[0;34m,\u001b[0m \u001b[0mfetches\u001b[0m\u001b[0;34m)\u001b[0m\u001b[0;34m\u001b[0m\u001b[0m\n",
      "\u001b[0;32m/home/mtx/local/anaconda2/envs/tf1.5/lib/python2.7/site-packages/tensorflow/python/client/session.pyc\u001b[0m in \u001b[0;36m_do_call\u001b[0;34m(self, fn, *args)\u001b[0m\n\u001b[1;32m   1348\u001b[0m   \u001b[0;32mdef\u001b[0m \u001b[0m_do_call\u001b[0m\u001b[0;34m(\u001b[0m\u001b[0mself\u001b[0m\u001b[0;34m,\u001b[0m \u001b[0mfn\u001b[0m\u001b[0;34m,\u001b[0m \u001b[0;34m*\u001b[0m\u001b[0margs\u001b[0m\u001b[0;34m)\u001b[0m\u001b[0;34m:\u001b[0m\u001b[0;34m\u001b[0m\u001b[0m\n\u001b[1;32m   1349\u001b[0m     \u001b[0;32mtry\u001b[0m\u001b[0;34m:\u001b[0m\u001b[0;34m\u001b[0m\u001b[0m\n\u001b[0;32m-> 1350\u001b[0;31m       \u001b[0;32mreturn\u001b[0m \u001b[0mfn\u001b[0m\u001b[0;34m(\u001b[0m\u001b[0;34m*\u001b[0m\u001b[0margs\u001b[0m\u001b[0;34m)\u001b[0m\u001b[0;34m\u001b[0m\u001b[0m\n\u001b[0m\u001b[1;32m   1351\u001b[0m     \u001b[0;32mexcept\u001b[0m \u001b[0merrors\u001b[0m\u001b[0;34m.\u001b[0m\u001b[0mOpError\u001b[0m \u001b[0;32mas\u001b[0m \u001b[0me\u001b[0m\u001b[0;34m:\u001b[0m\u001b[0;34m\u001b[0m\u001b[0m\n\u001b[1;32m   1352\u001b[0m       \u001b[0mmessage\u001b[0m \u001b[0;34m=\u001b[0m \u001b[0mcompat\u001b[0m\u001b[0;34m.\u001b[0m\u001b[0mas_text\u001b[0m\u001b[0;34m(\u001b[0m\u001b[0me\u001b[0m\u001b[0;34m.\u001b[0m\u001b[0mmessage\u001b[0m\u001b[0;34m)\u001b[0m\u001b[0;34m\u001b[0m\u001b[0m\n",
      "\u001b[0;32m/home/mtx/local/anaconda2/envs/tf1.5/lib/python2.7/site-packages/tensorflow/python/client/session.pyc\u001b[0m in \u001b[0;36m_run_fn\u001b[0;34m(session, feed_dict, fetch_list, target_list, options, run_metadata)\u001b[0m\n\u001b[1;32m   1327\u001b[0m           return tf_session.TF_Run(session, options,\n\u001b[1;32m   1328\u001b[0m                                    \u001b[0mfeed_dict\u001b[0m\u001b[0;34m,\u001b[0m \u001b[0mfetch_list\u001b[0m\u001b[0;34m,\u001b[0m \u001b[0mtarget_list\u001b[0m\u001b[0;34m,\u001b[0m\u001b[0;34m\u001b[0m\u001b[0m\n\u001b[0;32m-> 1329\u001b[0;31m                                    status, run_metadata)\n\u001b[0m\u001b[1;32m   1330\u001b[0m \u001b[0;34m\u001b[0m\u001b[0m\n\u001b[1;32m   1331\u001b[0m     \u001b[0;32mdef\u001b[0m \u001b[0m_prun_fn\u001b[0m\u001b[0;34m(\u001b[0m\u001b[0msession\u001b[0m\u001b[0;34m,\u001b[0m \u001b[0mhandle\u001b[0m\u001b[0;34m,\u001b[0m \u001b[0mfeed_dict\u001b[0m\u001b[0;34m,\u001b[0m \u001b[0mfetch_list\u001b[0m\u001b[0;34m)\u001b[0m\u001b[0;34m:\u001b[0m\u001b[0;34m\u001b[0m\u001b[0m\n",
      "\u001b[0;31mKeyboardInterrupt\u001b[0m: "
     ]
    },
    {
     "name": "stderr",
     "output_type": "stream",
     "text": [
      " 11%|█         | 2200/20000 [02:10<14:35, 20.33it/s]"
     ]
    }
   ],
   "source": [
    "dsc()"
   ]
  },
  {
   "cell_type": "markdown",
   "metadata": {},
   "source": [
    "---\n",
    "## Evaluation"
   ]
  },
  {
   "cell_type": "code",
   "execution_count": 6,
   "metadata": {},
   "outputs": [],
   "source": [
    "data_test = np.load('/nfs/P100/DSC/data/1218/test.npy')\n",
    "norm_arr = np.load('/nfs/P100/DSC/data/1218/train_mean_std.npy')\n",
    "data_test['flux_norm'] = (data_test['flux_norm'] - norm_arr[:,0]) / norm_arr[:,1]"
   ]
  },
  {
   "cell_type": "code",
   "execution_count": 7,
   "metadata": {},
   "outputs": [],
   "source": [
    "with open(os.path.join(dsc.FLAGS.model_dir,'checkpoint')) as f:\n",
    "    mid = f.readline().split('/')\n",
    "    mid = mid[-2]+'_'+mid[-1][:-2]"
   ]
  },
  {
   "cell_type": "code",
   "execution_count": 8,
   "metadata": {},
   "outputs": [
    {
     "name": "stdout",
     "output_type": "stream",
     "text": [
      "float32 (6411, 4801)\n",
      "int32 (6411,)\n",
      "loop number: 51\n",
      "INFO:tensorflow:Tensor(\"Placeholder:0\", shape=(?, 4801), dtype=float32)\n",
      "INFO:tensorflow:==========ResNet_sigmoid==========\n",
      "INFO:tensorflow:load variable from /nfs/P100/DSC/model/ResNN_329/ResNN4-5999\n",
      "INFO:tensorflow:Restoring parameters from /nfs/P100/DSC/model/ResNN_329/ResNN4-5999\n"
     ]
    },
    {
     "name": "stderr",
     "output_type": "stream",
     "text": [
      "100%|██████████| 51/51 [00:02<00:00, 17.94it/s]\n"
     ]
    }
   ],
   "source": [
    "loss, prob = dsc.eval(data_test['flux_norm'], data_test['label'])"
   ]
  },
  {
   "cell_type": "code",
   "execution_count": 9,
   "metadata": {},
   "outputs": [],
   "source": [
    "import matplotlib.pyplot as plt\n",
    "params = {\n",
    "    'axes.labelsize': 10,\n",
    "    'legend.fontsize': 10,\n",
    "    'xtick.labelsize': 9,\n",
    "    'ytick.labelsize': 9,\n",
    "    'text.usetex': False,\n",
    "    'figure.figsize': [4.5, 4.5],\n",
    "    #----------\n",
    "    'xtick.direction': 'in',\n",
    "    'ytick.direction': 'in',\n",
    "    'image.cmap': 'jet',\n",
    "    'legend.frameon':  False,\n",
    "    'xtick.top': True,\n",
    "    'ytick.right': True,\n",
    "    #----------\n",
    "    'lines.linewidth': 2.0,\n",
    "#    'axes.labelsize': 12,\n",
    "    'xtick.minor.visible': True,\n",
    "    'ytick.minor.visible': True,\n",
    "    'xtick.minor.top': True, \n",
    "    'xtick.minor.bottom': True, \n",
    "    'ytick.minor.left': True, \n",
    "    'ytick.minor.right': True,\n",
    "   }\n",
    "plt.rcParams.update(params)"
   ]
  },
  {
   "cell_type": "code",
   "execution_count": 10,
   "metadata": {},
   "outputs": [
    {
     "name": "stdout",
     "output_type": "stream",
     "text": [
      "0.3093154\n",
      "| class | percentage | \n",
      "|-------|-------|\n",
      "| d -> d | 0.04929028232725004  | \n",
      "| s -> s | 0.8338792700046794  | \n",
      "| d -> s | 0.007175167680549056  | \n",
      "| s -> d | 0.10965527998752145  | \n"
     ]
    },
    {
     "data": {
      "image/png": "[encoded data removed]",
      "text/plain": [
       "<Figure size 324x324 with 1 Axes>"
      ]
     },
     "metadata": {
      "needs_background": "light"
     },
     "output_type": "display_data"
    },
    {
     "name": "stderr",
     "output_type": "stream",
     "text": [
      "/home/mtx/local/anaconda2/envs/tf1.5/lib/python2.7/site-packages/matplotlib/axes/_axes.py:6462: UserWarning: The 'normed' kwarg is deprecated, and has been replaced by the 'density' kwarg.\n",
      "  warnings.warn(\"The 'normed' kwarg is deprecated, and has been \"\n"
     ]
    },
    {
     "data": {
      "image/png": "[encoded data removed]",
      "text/plain": [
       "<Figure size 324x324 with 1 Axes>"
      ]
     },
     "metadata": {
      "needs_background": "light"
     },
     "output_type": "display_data"
    }
   ],
   "source": [
    "plt.rcParams.update(params)\n",
    "print loss.mean()\n",
    "threshold_d = 0.5\n",
    "threshold_s = 0.5\n",
    "bool_gt = data_test['label']\n",
    "bool_es = (prob[:,1]>threshold_d) * (prob[:,0]<threshold_s)\n",
    "size_eval = data_test.shape[0]\n",
    "bool_dd = bool_gt*bool_es\n",
    "bool_ss = (1-bool_gt)*(1-bool_es)\n",
    "bool_ds = bool_gt*(1-bool_es)\n",
    "bool_sd = (1-bool_gt)*bool_es\n",
    "print '| class | percentage |', '\\n|-------|-------|'\n",
    "print '| d -> d |', np.sum(bool_dd)/float(size_eval), ' | ' # d -> d\n",
    "print '| s -> s |', np.sum(bool_ss)/float(size_eval), ' | '  # s -> s\n",
    "print '| d -> s |', np.sum(bool_ds)/float(size_eval), ' | '  # d -> s\n",
    "print '| s -> d |', np.sum(bool_sd)/float(size_eval), ' | '  # s -> d\n",
    "\n",
    "plt.plot(prob[bool_gt==0][:,0], prob[bool_gt==0][:,1], 'b.', label='single', alpha=0.1)\n",
    "plt.plot(prob[bool_gt==1][:,0], prob[bool_gt==1][:,1], 'r.', label='double', alpha=0.6)\n",
    "plt.xlabel('single')\n",
    "plt.ylabel('double')\n",
    "plt.legend()\n",
    "plt.show()\n",
    "\n",
    "plt.hist(prob[bool_gt==1][:,1], 50, normed=True, histtype='step', label='double star')\n",
    "plt.hist(prob[bool_gt==0][:,1], 50, normed=True, histtype='step', label='single star')\n",
    "plt.xlabel('probability of double star')\n",
    "plt.ylabel('PDF')\n",
    "plt.legend()\n",
    "plt.savefig('./test/%s_test.png'%(mid))\n",
    "plt.show()"
   ]
  },
  {
   "cell_type": "markdown",
   "metadata": {},
   "source": [
    "## receiver operating characteristic curve ([ROC curve](https://blog.csdn.net/sjyttkl/article/details/80523690))\n",
    "single: negative; binary: positive\n",
    "- **true positive (TP)**: binary -> binary\n",
    "- **true negative (TN)**: single -> single\n",
    "- **false positive (FP)**: single -> binary\n",
    "- **false negative (FN)**: binary -> single\n",
    "- TPR = TP/(TP+FN)\n",
    "- FPR = FP/(FP+TN)"
   ]
  },
  {
   "cell_type": "code",
   "execution_count": 11,
   "metadata": {},
   "outputs": [
    {
     "data": {
      "image/png": "[encoded data removed]",
      "text/plain": [
       "<Figure size 324x324 with 1 Axes>"
      ]
     },
     "metadata": {
      "needs_background": "light"
     },
     "output_type": "display_data"
    }
   ],
   "source": [
    "prob_norm = prob / prob.sum(axis=1,keepdims=True)\n",
    "TPR = []\n",
    "FPR = []\n",
    "for threshold_d in np.arange(11)*0.1:\n",
    "    bool_gt = data_test['label']\n",
    "    bool_es = (prob[:,1]>threshold_d)\n",
    "    size_eval = data_test.shape[0]\n",
    "\n",
    "    bool_dd = bool_gt*bool_es\n",
    "    bool_ss = (1-bool_gt)*(1-bool_es)\n",
    "    bool_ds = bool_gt*(1-bool_es)\n",
    "    bool_sd = (1-bool_gt)*bool_es\n",
    "    TP = np.sum(bool_dd)/float(size_eval)\n",
    "    TN = np.sum(bool_ss)/float(size_eval)\n",
    "    FP = np.sum(bool_sd)/float(size_eval)\n",
    "    FN = np.sum(bool_ds)/float(size_eval)\n",
    "    TPR.append(1. * TP / (TP+FN))\n",
    "    FPR.append(1. * FP / (FP+TN))\n",
    "plt.plot(FPR, TPR)\n",
    "plt.xlim([0,1])\n",
    "plt.ylim([0,1])\n",
    "plt.xlabel('FPR')\n",
    "plt.ylabel('TPR')\n",
    "plt.show()"
   ]
  },
  {
   "cell_type": "markdown",
   "metadata": {},
   "source": [
    "### check in validation dataset"
   ]
  },
  {
   "cell_type": "markdown",
   "metadata": {},
   "source": [
    "- clean validation: remove repeated data points."
   ]
  },
  {
   "cell_type": "code",
   "execution_count": 6,
   "metadata": {},
   "outputs": [],
   "source": [
    "with open(os.path.join(dsc.FLAGS.model_dir,'checkpoint')) as f:\n",
    "    mid = f.readline().split('/')\n",
    "    mid = mid[-2]+'_'+mid[-1][:-2]"
   ]
  },
  {
   "cell_type": "code",
   "execution_count": 7,
   "metadata": {},
   "outputs": [],
   "source": [
    "data_valid = np.load('/nfs/P100/DSC/data/1218/valid.npy')\n",
    "clean_inds = np.unique(data_valid['obsid'],return_index=True)[1]\n",
    "data_valid_cleaned = data_valid[clean_inds]"
   ]
  },
  {
   "cell_type": "code",
   "execution_count": 8,
   "metadata": {},
   "outputs": [
    {
     "name": "stdout",
     "output_type": "stream",
     "text": [
      "float32 (6410, 4801)\n",
      "int32 (6410,)\n",
      "loop number: 51\n",
      "INFO:tensorflow:Tensor(\"Placeholder:0\", shape=(?, 4801), dtype=float32)\n",
      "INFO:tensorflow:==========ResNet_sigmoid==========\n",
      "INFO:tensorflow:load variable from /nfs/P100/DSC/model/ResNN_329/ResNN4-4999\n",
      "INFO:tensorflow:Restoring parameters from /nfs/P100/DSC/model/ResNN_329/ResNN4-4999\n"
     ]
    },
    {
     "name": "stderr",
     "output_type": "stream",
     "text": [
      "100%|██████████| 51/51 [00:02<00:00, 17.30it/s]\n"
     ]
    }
   ],
   "source": [
    "#data_valid_mean = data_valid_cleaned['flux'].mean(axis=1)\n",
    "#data_valid_cleaned['flux'] = data_valid_cleaned['flux'] - data_valid_mean[:,None]*np.ones([data_valid_mean.shape[0],4000])\n",
    "loss, prob = dsc.eval(data_valid_cleaned['flux_norm'], data_valid_cleaned['label'])"
   ]
  },
  {
   "cell_type": "code",
   "execution_count": 11,
   "metadata": {},
   "outputs": [
    {
     "name": "stdout",
     "output_type": "stream",
     "text": [
      "0.41274354\n",
      "d -> d 0.048205928237129485\n",
      "s -> s 0.8246489859594384\n",
      "d -> s 0.005616224648985959\n",
      "s -> d 0.12152886115444618\n"
     ]
    },
    {
     "name": "stderr",
     "output_type": "stream",
     "text": [
      "/home/mtx/local/anaconda2/envs/tf1.5/lib/python2.7/site-packages/matplotlib/axes/_axes.py:6462: UserWarning: The 'normed' kwarg is deprecated, and has been replaced by the 'density' kwarg.\n",
      "  warnings.warn(\"The 'normed' kwarg is deprecated, and has been \"\n"
     ]
    },
    {
     "data": {
      "image/png": "[encoded data removed]",
      "text/plain": [
       "<Figure size 432x288 with 1 Axes>"
      ]
     },
     "metadata": {
      "needs_background": "light"
     },
     "output_type": "display_data"
    }
   ],
   "source": [
    "print loss.mean()\n",
    "threshold = 0.5\n",
    "bool_gt = data_valid_cleaned['label']\n",
    "bool_es = prob[:,1]>threshold\n",
    "size_eval = data_valid_cleaned.shape[0]\n",
    "bool_dd = bool_gt*bool_es\n",
    "bool_ss = (1-bool_gt)*(1-bool_es)\n",
    "bool_ds = bool_gt*(1-bool_es)\n",
    "bool_sd = (1-bool_gt)*bool_es\n",
    "print 'd -> d', np.sum(bool_dd)/float(size_eval)  # d -> d\n",
    "print 's -> s', np.sum(bool_ss)/float(size_eval)  # s -> s\n",
    "print 'd -> s', np.sum(bool_ds)/float(size_eval)  # d -> s\n",
    "print 's -> d', np.sum(bool_sd)/float(size_eval)  # s -> d\n",
    "plt.hist(prob[bool_gt==1][:,1], 50, normed=True, histtype='step', label='double star')\n",
    "plt.hist(prob[bool_gt==0][:,1], 50, normed=True, histtype='step', label='single star')\n",
    "plt.xlabel('probability of double star')\n",
    "plt.ylabel('PDF')\n",
    "plt.legend()\n",
    "plt.savefig('./test/%s_valid.png'%(mid))\n",
    "plt.show()"
   ]
  },
  {
   "cell_type": "code",
   "execution_count": null,
   "metadata": {},
   "outputs": [],
   "source": []
  }
 ],
 "metadata": {
  "kernelspec": {
   "display_name": "Python 2",
   "language": "python",
   "name": "python2"
  },
  "language_info": {
   "codemirror_mode": {
    "name": "ipython",
    "version": 2
   },
   "file_extension": ".py",
   "mimetype": "text/x-python",
   "name": "python",
   "nbconvert_exporter": "python",
   "pygments_lexer": "ipython2",
   "version": "2.7.15"
  }
 },
 "nbformat": 4,
 "nbformat_minor": 2
}
