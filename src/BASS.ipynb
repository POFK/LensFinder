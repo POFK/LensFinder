{
 "cells": [
  {
   "cell_type": "code",
   "execution_count": 1,
   "metadata": {},
   "outputs": [],
   "source": [
    "import numpy as np\n",
    "import h5py\n",
    "import matplotlib.pyplot as plt"
   ]
  },
  {
   "cell_type": "code",
   "execution_count": 2,
   "metadata": {},
   "outputs": [],
   "source": [
    "import glob\n",
    "import os"
   ]
  },
  {
   "cell_type": "code",
   "execution_count": 16,
   "metadata": {},
   "outputs": [],
   "source": [
    "BaseDir = '/data/inspur_disk03/userdir/wangcx/BASS_stack/area1/area1_hdf5_2'"
   ]
  },
  {
   "cell_type": "code",
   "execution_count": 17,
   "metadata": {},
   "outputs": [],
   "source": [
    "fps = glob.glob(BaseDir+'/*.hdf5')\n",
    "fps = [i.replace(BaseDir+'/','') for i in fps]"
   ]
  },
  {
   "cell_type": "code",
   "execution_count": 18,
   "metadata": {},
   "outputs": [],
   "source": [
    "pre_dir = '/data/dell5/userdir/maotx/Lens/result/area1_hdf5_2_lens_049_40'\n",
    "pre_fps = glob.glob(pre_dir+'/*.txt')"
   ]
  },
  {
   "cell_type": "code",
   "execution_count": 19,
   "metadata": {},
   "outputs": [],
   "source": [
    "def read_res(fp):\n",
    "    with open(fp, 'r') as fp:\n",
    "        data = fp.readlines()\n",
    "    ss = [i.replace('\\n','').split('\\t') for i in data]\n",
    "    ss = {ss[i][0]: float(ss[i][2])/(float(ss[i][1])+float(ss[i][2])) for i in range(len(ss))}\n",
    "    return ss"
   ]
  },
  {
   "cell_type": "code",
   "execution_count": 20,
   "metadata": {},
   "outputs": [],
   "source": [
    "prob = {}\n",
    "for fp in pre_fps:\n",
    "    a = read_res(fp)\n",
    "    prob.update(a)"
   ]
  },
  {
   "cell_type": "code",
   "execution_count": 21,
   "metadata": {},
   "outputs": [],
   "source": [
    "P = np.array(prob.values())"
   ]
  },
  {
   "cell_type": "code",
   "execution_count": 22,
   "metadata": {},
   "outputs": [
    {
     "data": {
      "text/plain": [
       "148"
      ]
     },
     "execution_count": 22,
     "metadata": {},
     "output_type": "execute_result"
    }
   ],
   "source": [
    "np.sum(P>0.99)"
   ]
  },
  {
   "cell_type": "code",
   "execution_count": 25,
   "metadata": {},
   "outputs": [
    {
     "data": {
      "text/plain": [
       "(array([ 4463., 10287., 14052., 16623., 17718., 17683., 16713., 15179.,\n",
       "        13779., 12471., 11165., 10112.,  9001.,  8332.,  7727.,  7196.,\n",
       "         6596.,  6165.,  5653.,  5283.,  4737.,  4513.,  4137.,  3709.,\n",
       "         3504.,  3223.,  2964.,  2676.,  2509.,  2371.,  2197.,  2097.,\n",
       "         1907.,  1866.,  1682.,  1566.,  1539.,  1413.,  1343.,  1291.,\n",
       "         1188.,  1174.,  1074.,   999.,   992.,   917.,   869.,   883.,\n",
       "          785.,   792.,   762.,   682.,   671.,   657.,   561.,   620.,\n",
       "          560.,   529.,   521.,   518.,   445.,   472.,   439.,   455.,\n",
       "          425.,   413.,   391.,   352.,   352.,   370.,   337.,   310.,\n",
       "          326.,   297.,   292.,   312.,   249.,   255.,   252.,   272.,\n",
       "          242.,   233.,   235.,   227.,   200.,   200.,   206.,   209.,\n",
       "          209.,   156.,   172.,   151.,   160.,   149.,   152.,   141.,\n",
       "          126.,   144.,   132.,   148.]),\n",
       " array([1.73832088e-04, 1.01720938e-02, 2.01703554e-02, 3.01686171e-02,\n",
       "        4.01668788e-02, 5.01651405e-02, 6.01634022e-02, 7.01616638e-02,\n",
       "        8.01599255e-02, 9.01581872e-02, 1.00156449e-01, 1.10154711e-01,\n",
       "        1.20152972e-01, 1.30151234e-01, 1.40149496e-01, 1.50147757e-01,\n",
       "        1.60146019e-01, 1.70144281e-01, 1.80142542e-01, 1.90140804e-01,\n",
       "        2.00139066e-01, 2.10137327e-01, 2.20135589e-01, 2.30133851e-01,\n",
       "        2.40132112e-01, 2.50130374e-01, 2.60128636e-01, 2.70126897e-01,\n",
       "        2.80125159e-01, 2.90123421e-01, 3.00121682e-01, 3.10119944e-01,\n",
       "        3.20118206e-01, 3.30116467e-01, 3.40114729e-01, 3.50112991e-01,\n",
       "        3.60111253e-01, 3.70109514e-01, 3.80107776e-01, 3.90106038e-01,\n",
       "        4.00104299e-01, 4.10102561e-01, 4.20100823e-01, 4.30099084e-01,\n",
       "        4.40097346e-01, 4.50095608e-01, 4.60093869e-01, 4.70092131e-01,\n",
       "        4.80090393e-01, 4.90088654e-01, 5.00086916e-01, 5.10085178e-01,\n",
       "        5.20083439e-01, 5.30081701e-01, 5.40079963e-01, 5.50078224e-01,\n",
       "        5.60076486e-01, 5.70074748e-01, 5.80073009e-01, 5.90071271e-01,\n",
       "        6.00069533e-01, 6.10067795e-01, 6.20066056e-01, 6.30064318e-01,\n",
       "        6.40062580e-01, 6.50060841e-01, 6.60059103e-01, 6.70057365e-01,\n",
       "        6.80055626e-01, 6.90053888e-01, 7.00052150e-01, 7.10050411e-01,\n",
       "        7.20048673e-01, 7.30046935e-01, 7.40045196e-01, 7.50043458e-01,\n",
       "        7.60041720e-01, 7.70039981e-01, 7.80038243e-01, 7.90036505e-01,\n",
       "        8.00034766e-01, 8.10033028e-01, 8.20031290e-01, 8.30029551e-01,\n",
       "        8.40027813e-01, 8.50026075e-01, 8.60024336e-01, 8.70022598e-01,\n",
       "        8.80020860e-01, 8.90019122e-01, 9.00017383e-01, 9.10015645e-01,\n",
       "        9.20013907e-01, 9.30012168e-01, 9.40010430e-01, 9.50008692e-01,\n",
       "        9.60006953e-01, 9.70005215e-01, 9.80003477e-01, 9.90001738e-01,\n",
       "        1.00000000e+00]),\n",
       " <a list of 100 Patch objects>)"
      ]
     },
     "execution_count": 25,
     "metadata": {},
     "output_type": "execute_result"
    },
    {
     "data": {
      "image/png": "[encoded data removed]",
      "text/plain": [
       "<Figure size 432x288 with 1 Axes>"
      ]
     },
     "metadata": {
      "needs_background": "light"
     },
     "output_type": "display_data"
    }
   ],
   "source": [
    "plt.hist(P,100)\n",
    "#plt.yscale('log')"
   ]
  },
  {
   "cell_type": "code",
   "execution_count": null,
   "metadata": {},
   "outputs": [],
   "source": []
  }
 ],
 "metadata": {
  "kernelspec": {
   "display_name": "Python 2",
   "language": "python",
   "name": "python2"
  },
  "language_info": {
   "codemirror_mode": {
    "name": "ipython",
    "version": 2
   },
   "file_extension": ".py",
   "mimetype": "text/x-python",
   "name": "python",
   "nbconvert_exporter": "python",
   "pygments_lexer": "ipython2",
   "version": "2.7.15"
  }
 },
 "nbformat": 4,
 "nbformat_minor": 2
}
