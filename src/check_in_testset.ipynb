{
 "cells": [
  {
   "cell_type": "code",
   "execution_count": 26,
   "metadata": {},
   "outputs": [],
   "source": [
    "import numpy as np\n",
    "import os\n",
    "import matplotlib.pyplot as plt"
   ]
  },
  {
   "cell_type": "code",
   "execution_count": 34,
   "metadata": {},
   "outputs": [],
   "source": [
    "%config InlineBackend.figure_format = 'retina' "
   ]
  },
  {
   "cell_type": "code",
   "execution_count": 86,
   "metadata": {},
   "outputs": [],
   "source": [
    "DirBase = \"/data/inspur_disk03/userdir/wangcx\"\n",
    "OutDir = '/data/dell5/userdir/maotx/Lens/result/testset/0715'\n",
    "#os.makedirs(OutDir)"
   ]
  },
  {
   "cell_type": "code",
   "execution_count": 87,
   "metadata": {},
   "outputs": [],
   "source": [
    "res = np.loadtxt('/data/dell5/userdir/maotx/Lens/model/prob_eval_test_45.txt')\n",
    "fp_fnl = '/data/dell5/userdir/maotx/Lens/0712/data/filename_lens_te'\n",
    "fp_fnn = '/data/dell5/userdir/maotx/Lens/0712/data/filename_nlens_te'"
   ]
  },
  {
   "cell_type": "code",
   "execution_count": 88,
   "metadata": {},
   "outputs": [],
   "source": [
    "th = 0.9"
   ]
  },
  {
   "cell_type": "code",
   "execution_count": 89,
   "metadata": {},
   "outputs": [],
   "source": [
    "with open(fp_fnl,'r') as fp:\n",
    "    fn1 = fp.readlines()\n",
    "with open(fp_fnn, 'r') as fp:\n",
    "    fn2 = fp.readlines()\n",
    "fn = fn1+fn2"
   ]
  },
  {
   "cell_type": "code",
   "execution_count": 90,
   "metadata": {},
   "outputs": [],
   "source": [
    "with open('/data/dell5/userdir/maotx/Lens/model/test_set_filename.txt','w') as fp:\n",
    "    for f in fn:\n",
    "        fp.writelines(f)"
   ]
  },
  {
   "cell_type": "code",
   "execution_count": 91,
   "metadata": {},
   "outputs": [],
   "source": [
    "prob = res[:,1]/(res[:,1]+res[:,0])"
   ]
  },
  {
   "cell_type": "code",
   "execution_count": null,
   "metadata": {},
   "outputs": [],
   "source": []
  },
  {
   "cell_type": "code",
   "execution_count": 92,
   "metadata": {},
   "outputs": [],
   "source": [
    "fn_lens = fn[:28]\n",
    "prob_lens = prob[:28]"
   ]
  },
  {
   "cell_type": "code",
   "execution_count": 93,
   "metadata": {},
   "outputs": [
    {
     "name": "stdout",
     "output_type": "stream",
     "text": [
      "[0.70629083 0.56612842 0.80293944 0.51118069 0.9725091  0.92074529\n",
      " 0.95170359 0.98436979 0.97772211 0.53227058 0.41971841 0.90698309\n",
      " 0.96264225 0.98489458 0.94765535 0.99677375 0.63027428 0.99506997\n",
      " 0.13546495 0.05315834 0.51325557 0.7872616  0.71480841 0.91666244\n",
      " 0.9238031  0.98806607 0.99750475 0.64736872]\n"
     ]
    }
   ],
   "source": [
    "print(prob_lens)"
   ]
  },
  {
   "cell_type": "code",
   "execution_count": 94,
   "metadata": {},
   "outputs": [
    {
     "data": {
      "image/png": "[encoded data removed]",
      "text/plain": [
       "<Figure size 432x288 with 1 Axes>"
      ]
     },
     "metadata": {
      "image/png": {
       "height": 252,
       "width": 262
      },
      "needs_background": "light"
     },
     "output_type": "display_data"
    }
   ],
   "source": [
    "for fpl, probl in zip(fn_lens, prob_lens):\n",
    "    path = os.path.join(DirBase, fpl.replace('/cutout','/png/cutout').replace('.fits\\n','.png'))\n",
    "    img = plt.imread(path)\n",
    "    plt.imshow(img)\n",
    "    plt.text(10,10,'%s'%probl, color='w')\n",
    "    plt.savefig(OutDir+'/'+path.split('/')[-1])\n",
    "    plt.cla()"
   ]
  },
  {
   "cell_type": "code",
   "execution_count": null,
   "metadata": {},
   "outputs": [],
   "source": []
  }
 ],
 "metadata": {
  "kernelspec": {
   "display_name": "Python 2",
   "language": "python",
   "name": "python2"
  },
  "language_info": {
   "codemirror_mode": {
    "name": "ipython",
    "version": 2
   },
   "file_extension": ".py",
   "mimetype": "text/x-python",
   "name": "python",
   "nbconvert_exporter": "python",
   "pygments_lexer": "ipython2",
   "version": "2.7.15"
  }
 },
 "nbformat": 4,
 "nbformat_minor": 2
}
